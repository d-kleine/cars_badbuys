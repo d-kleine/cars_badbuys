{
 "cells": [
  {
   "cell_type": "markdown",
   "id": "3c6aa7d9",
   "metadata": {},
   "source": [
    "# Modeling"
   ]
  },
  {
   "cell_type": "code",
   "execution_count": 41,
   "id": "56d44245",
   "metadata": {},
   "outputs": [],
   "source": [
    "import pickle\n",
    "import pandas as pd\n",
    "import matplotlib.pyplot as plt\n",
    "\n",
    "from sklearn.inspection import permutation_importance\n",
    "from sklearn.compose import ColumnTransformer\n",
    "from sklearn.preprocessing import OneHotEncoder, StandardScaler, PolynomialFeatures\n",
    "from sklearn.pipeline import Pipeline\n",
    "from sklearn.dummy import DummyClassifier\n",
    "from sklearn.model_selection import cross_val_score, GridSearchCV, validation_curve\n",
    "from sklearn.metrics import f1_score, recall_score, precision_score\n",
    "from sklearn.decomposition import PCA\n",
    "from sklearn.model_selection import cross_validate\n",
    "from sklearn.metrics import precision_score, recall_score, f1_score, roc_auc_score, confusion_matrix, classification_report"
   ]
  },
  {
   "cell_type": "code",
   "execution_count": 42,
   "id": "a735e2b9",
   "metadata": {},
   "outputs": [],
   "source": [
    "df_train = pickle.load(open('df_train_prep.p', 'rb'))\n",
    "df_test = pickle.load(open('df_test_prep.p', 'rb'))"
   ]
  },
  {
   "cell_type": "code",
   "execution_count": 43,
   "id": "1be93a7f",
   "metadata": {},
   "outputs": [],
   "source": [
    "#instantiate feature matrix and target vector for train set\n",
    "features_train = df_train.drop(\"IsBadBuy\", axis=1)\n",
    "target_train = df_train.loc[:, \"IsBadBuy\"]"
   ]
  },
  {
   "cell_type": "code",
   "execution_count": 44,
   "id": "983427a1",
   "metadata": {},
   "outputs": [],
   "source": [
    "#instantiate feature matrix and target vector for test set\n",
    "features_test = df_test.drop(\"IsBadBuy\", axis=1)\n",
    "target_test = df_test.loc[:, \"IsBadBuy\"]"
   ]
  },
  {
   "cell_type": "code",
   "execution_count": 45,
   "id": "dfc03dc8",
   "metadata": {},
   "outputs": [
    {
     "name": "stdout",
     "output_type": "stream",
     "text": [
      "<class 'pandas.core.frame.DataFrame'>\n",
      "RangeIndex: 58373 entries, 0 to 58372\n",
      "Data columns (total 26 columns):\n",
      " #   Column                             Non-Null Count  Dtype   \n",
      "---  ------                             --------------  -----   \n",
      " 0   Auction                            58373 non-null  category\n",
      " 1   VehicleAge                         58373 non-null  int64   \n",
      " 2   Make                               58373 non-null  category\n",
      " 3   Trim                               58373 non-null  category\n",
      " 4   Color                              58373 non-null  category\n",
      " 5   Transmission                       58373 non-null  category\n",
      " 6   WheelType                          58373 non-null  category\n",
      " 7   VehOdo                             58373 non-null  int64   \n",
      " 8   Nationality                        58373 non-null  category\n",
      " 9   Size                               58373 non-null  category\n",
      " 10  TopThreeAmericanName               58373 non-null  category\n",
      " 11  MMRAcquisitionAuctionAveragePrice  58373 non-null  float64 \n",
      " 12  MMRAcquisitionAuctionCleanPrice    58373 non-null  float64 \n",
      " 13  MMRAcquisitionRetailAveragePrice   58373 non-null  float64 \n",
      " 14  MMRAcquisitonRetailCleanPrice      58373 non-null  float64 \n",
      " 15  MMRCurrentAuctionAveragePrice      58373 non-null  float64 \n",
      " 16  MMRCurrentAuctionCleanPrice        58373 non-null  float64 \n",
      " 17  MMRCurrentRetailAveragePrice       58373 non-null  float64 \n",
      " 18  MMRCurrentRetailCleanPrice         58373 non-null  float64 \n",
      " 19  BYRNO                              58373 non-null  category\n",
      " 20  VNST                               58373 non-null  category\n",
      " 21  VehBCost                           58373 non-null  float64 \n",
      " 22  IsOnlineSale                       58373 non-null  category\n",
      " 23  WarrantyCost                       58373 non-null  int64   \n",
      " 24  PurchMonth                         58373 non-null  int64   \n",
      " 25  PurchYear                          58373 non-null  int64   \n",
      "dtypes: category(12), float64(9), int64(5)\n",
      "memory usage: 7.0 MB\n"
     ]
    }
   ],
   "source": [
    "features_train.info()"
   ]
  },
  {
   "cell_type": "code",
   "execution_count": 46,
   "id": "1fa6d581",
   "metadata": {},
   "outputs": [
    {
     "data": {
      "text/plain": [
       "0.19580426673003526"
      ]
     },
     "execution_count": 46,
     "metadata": {},
     "output_type": "execute_result"
    }
   ],
   "source": [
    "# baseline model: randomly predicting the same number of cases in each class\n",
    "model_dummy = DummyClassifier(strategy='uniform', random_state=42)\n",
    "\n",
    "cross_val_score(estimator=model_dummy,\n",
    "                X=features_train, \n",
    "                y=target_train, \n",
    "                cv=3, \n",
    "                scoring='f1').mean()"
   ]
  },
  {
   "cell_type": "code",
   "execution_count": 47,
   "id": "de4202f7",
   "metadata": {},
   "outputs": [
    {
     "data": {
      "text/plain": [
       "Auction                   3\n",
       "Make                     33\n",
       "Trim                    133\n",
       "Color                    16\n",
       "Transmission              2\n",
       "WheelType                 3\n",
       "Nationality               4\n",
       "Size                     12\n",
       "TopThreeAmericanName      4\n",
       "BYRNO                    72\n",
       "VNST                     37\n",
       "IsOnlineSale              2\n",
       "dtype: int64"
      ]
     },
     "execution_count": 47,
     "metadata": {},
     "output_type": "execute_result"
    }
   ],
   "source": [
    "features_train.select_dtypes('category').nunique()"
   ]
  },
  {
   "cell_type": "code",
   "execution_count": 48,
   "id": "34ca57f7",
   "metadata": {},
   "outputs": [
    {
     "data": {
      "text/plain": [
       "['AUTO', 'MANUAL']\n",
       "Categories (2, object): ['AUTO', 'MANUAL']"
      ]
     },
     "execution_count": 48,
     "metadata": {},
     "output_type": "execute_result"
    }
   ],
   "source": [
    "features_train.loc[:, 'Transmission'].unique()"
   ]
  },
  {
   "cell_type": "code",
   "execution_count": 49,
   "id": "0f60ad60",
   "metadata": {},
   "outputs": [],
   "source": [
    "# dummy coding\n",
    "features_train.loc[:, 'Transmission'] = features_train.loc[:, 'Transmission'].replace({'AUTO':0, 'MANUAL':1})\n",
    "features_train.loc[:, 'Transmission'] = features_train.loc[:, 'Transmission'].astype('category')\n",
    "\n",
    "features_test.loc[:, 'Transmission'] = features_test.loc[:, 'Transmission'].replace({'AUTO':0, 'MANUAL':1})\n",
    "features_test.loc[:, 'Transmission'] = features_test.loc[:, 'Transmission'].astype('category')"
   ]
  },
  {
   "cell_type": "code",
   "execution_count": 50,
   "id": "8dfba6bc",
   "metadata": {},
   "outputs": [
    {
     "data": {
      "text/plain": [
       "Index(['Auction', 'Make', 'Trim', 'Color', 'Transmission', 'WheelType',\n",
       "       'Nationality', 'Size', 'TopThreeAmericanName', 'BYRNO', 'VNST',\n",
       "       'IsOnlineSale'],\n",
       "      dtype='object')"
      ]
     },
     "execution_count": 50,
     "metadata": {},
     "output_type": "execute_result"
    }
   ],
   "source": [
    "features_train.select_dtypes('category').columns"
   ]
  },
  {
   "cell_type": "code",
   "execution_count": 51,
   "id": "a9dd449d",
   "metadata": {},
   "outputs": [],
   "source": [
    "ohe_cols = ['Auction', \n",
    "            'Make',\n",
    "            'Trim',\n",
    "            'Color', \n",
    "            'WheelType',\n",
    "            'Nationality', \n",
    "            'Size', \n",
    "            'TopThreeAmericanName', \n",
    "            'BYRNO', \n",
    "            'VNST']"
   ]
  },
  {
   "cell_type": "code",
   "execution_count": 52,
   "id": "4a783f47",
   "metadata": {},
   "outputs": [
    {
     "data": {
      "text/plain": [
       "Index(['VehicleAge', 'VehOdo', 'MMRAcquisitionAuctionAveragePrice',\n",
       "       'MMRAcquisitionAuctionCleanPrice', 'MMRAcquisitionRetailAveragePrice',\n",
       "       'MMRAcquisitonRetailCleanPrice', 'MMRCurrentAuctionAveragePrice',\n",
       "       'MMRCurrentAuctionCleanPrice', 'MMRCurrentRetailAveragePrice',\n",
       "       'MMRCurrentRetailCleanPrice', 'VehBCost', 'WarrantyCost', 'PurchMonth',\n",
       "       'PurchYear'],\n",
       "      dtype='object')"
      ]
     },
     "execution_count": 52,
     "metadata": {},
     "output_type": "execute_result"
    }
   ],
   "source": [
    "features_train.select_dtypes('number').columns"
   ]
  },
  {
   "cell_type": "code",
   "execution_count": 53,
   "id": "63158fb2",
   "metadata": {},
   "outputs": [],
   "source": [
    "num_cols = ['VehicleAge', \n",
    "            'VehOdo', \n",
    "            'MMRAcquisitionAuctionAveragePrice',\n",
    "            'MMRAcquisitionAuctionCleanPrice', \n",
    "            'MMRAcquisitionRetailAveragePrice',\n",
    "            'MMRAcquisitonRetailCleanPrice', \n",
    "            'MMRCurrentAuctionAveragePrice',\n",
    "            'MMRCurrentAuctionCleanPrice', \n",
    "            'MMRCurrentRetailAveragePrice',\n",
    "            'MMRCurrentRetailCleanPrice', \n",
    "            'VehBCost', \n",
    "            'WarrantyCost', \n",
    "            'PurchMonth',\n",
    "            'PurchYear']"
   ]
  },
  {
   "cell_type": "code",
   "execution_count": 54,
   "id": "66a29cb4",
   "metadata": {},
   "outputs": [],
   "source": [
    "num_cols = features_train.select_dtypes('category').columns"
   ]
  },
  {
   "cell_type": "code",
   "execution_count": 55,
   "id": "7fd7ea2c",
   "metadata": {},
   "outputs": [],
   "source": [
    "# one-hot encoding categorial columns and standardising mmr colums to handle high correlations\n",
    "col_transformer = ColumnTransformer(transformers=[(\"OHE\", OneHotEncoder(handle_unknown=\"ignore\"), ohe_cols)],\n",
    "                                    remainder=\"passthrough\",\n",
    "                                    sparse_threshold=0)\n",
    "\n",
    "scaler = StandardScaler()"
   ]
  },
  {
   "cell_type": "code",
   "execution_count": 57,
   "id": "90f5fea6",
   "metadata": {},
   "outputs": [],
   "source": [
    "# baseline model\n",
    "from sklearn.linear_model import LogisticRegression\n",
    "\n",
    "baseline_lr = LogisticRegression(max_iter=1e4)\n",
    "\n",
    "pipe_base = Pipeline([(\"col_encoder\", col_transformer),\n",
    "                      (\"scaler\", scaler),\n",
    "                      (\"model\", baseline_lr)])\n",
    "\n",
    "pipe_base.fit(features_train, target_train)\n",
    "\n",
    "cv_results = cross_validate(estimator=pipe_base, X=features_train, y=target_train, cv=3, scoring=['precision', 'recall', 'f1'])"
   ]
  },
  {
   "cell_type": "code",
   "execution_count": 65,
   "id": "a4283b23",
   "metadata": {},
   "outputs": [
    {
     "data": {
      "text/plain": [
       "{'fit_time': array([3.10000014, 3.50400066, 3.38900042]),\n",
       " 'score_time': array([0.10099983, 0.0999999 , 0.10099983]),\n",
       " 'test_precision': array([0.34782609, 0.35135135, 0.36507937]),\n",
       " 'test_recall': array([0.00995851, 0.00539419, 0.00954753]),\n",
       " 'test_f1': array([0.01936265, 0.01062526, 0.01860841])}"
      ]
     },
     "execution_count": 65,
     "metadata": {},
     "output_type": "execute_result"
    }
   ],
   "source": [
    "cv_results"
   ]
  },
  {
   "cell_type": "code",
   "execution_count": 80,
   "id": "4bc166e3",
   "metadata": {},
   "outputs": [
    {
     "name": "stdout",
     "output_type": "stream",
     "text": [
      "precision:  0.35475226779574603\n",
      "recall:  0.008300075730303662\n",
      "f1:  0.016198771960864566\n"
     ]
    }
   ],
   "source": [
    "print('precision: ', list(cv_results.values())[2].mean())\n",
    "print('recall: ', list(cv_results.values())[3].mean())\n",
    "print('f1: ', list(cv_results.values())[4].mean())"
   ]
  },
  {
   "cell_type": "code",
   "execution_count": 17,
   "id": "08a36eb3",
   "metadata": {},
   "outputs": [],
   "source": [
    "# feature engineering (to be done)"
   ]
  },
  {
   "cell_type": "code",
   "execution_count": 81,
   "id": "5f9cd15a",
   "metadata": {},
   "outputs": [],
   "source": [
    "# dimensionality reduction\n",
    "MMR_cols = ['MMRAcquisitionAuctionAveragePrice', \n",
    "            'MMRAcquisitionAuctionCleanPrice',\n",
    "            'MMRAcquisitionRetailAveragePrice', \n",
    "            'MMRCurrentAuctionAveragePrice', \n",
    "            'MMRCurrentAuctionCleanPrice',\n",
    "            'MMRCurrentRetailAveragePrice', \n",
    "            'MMRCurrentRetailCleanPrice']"
   ]
  },
  {
   "cell_type": "code",
   "execution_count": 82,
   "id": "d6dcfb92",
   "metadata": {},
   "outputs": [
    {
     "data": {
      "text/plain": [
       "{'fit_time': array([3.14200044, 3.58299994, 3.454     ]),\n",
       " 'score_time': array([0.10599971, 0.102     , 0.10100007]),\n",
       " 'test_precision': array([0.34782609, 0.35135135, 0.36507937]),\n",
       " 'test_recall': array([0.00995851, 0.00539419, 0.00954753]),\n",
       " 'test_f1': array([0.01936265, 0.01062526, 0.01860841])}"
      ]
     },
     "execution_count": 82,
     "metadata": {},
     "output_type": "execute_result"
    }
   ],
   "source": [
    "pca_col_transformer = ColumnTransformer(transformers=[(\"OHE\", OneHotEncoder(handle_unknown=\"ignore\"), ohe_cols),\n",
    "                                                      \n",
    "                                                      (\"PCA_MMR\", PCA(n_components=1, random_state=42), MMR_cols)],\n",
    "                                        remainder=\"passthrough\",\n",
    "                                        sparse_threshold=0)\n",
    "                                         \n",
    "base_pca_pipe = Pipeline([(\"col_encoder\", pca_col_transformer),\n",
    "                          (\"scaler\", scaler),\n",
    "                          (\"pca\", PCA(n_components=0.95, random_state=42)),\n",
    "                          (\"model\", baseline_lr)])\n",
    "                          \n",
    "base_pca_pipe.fit(features_train, target_train)\n",
    "\n",
    "cross_validate(estimator=pipe_base, X=features_train, y=target_train, cv=3, scoring=['precision', 'recall', 'f1'])"
   ]
  },
  {
   "cell_type": "code",
   "execution_count": 84,
   "id": "594852c5",
   "metadata": {},
   "outputs": [
    {
     "name": "stdout",
     "output_type": "stream",
     "text": [
      "precision:  0.35475226779574603\n",
      "recall:  0.008300075730303662\n",
      "f1:  0.016198771960864566\n"
     ]
    }
   ],
   "source": [
    "print('precision: ', list(cv_results.values())[2].mean())\n",
    "print('recall: ', list(cv_results.values())[3].mean())\n",
    "print('f1: ', list(cv_results.values())[4].mean())"
   ]
  },
  {
   "cell_type": "code",
   "execution_count": 85,
   "id": "486b1d5f",
   "metadata": {},
   "outputs": [],
   "source": [
    "# feature selection\n",
    "result = permutation_importance(base_pca_pipe, features_train, target_train, random_state=42)\n",
    "sorted_idx = result.importances_mean.argsort()"
   ]
  },
  {
   "cell_type": "code",
   "execution_count": 21,
   "id": "65370ef5",
   "metadata": {},
   "outputs": [
    {
     "data": {
      "image/png": "[encoded data removed]",
      "text/plain": [
       "<Figure size 432x288 with 1 Axes>"
      ]
     },
     "metadata": {
      "needs_background": "light"
     },
     "output_type": "display_data"
    }
   ],
   "source": [
    "fig, ax = plt.subplots()\n",
    "pd.Series(result.importances_mean[sorted_idx].T,\n",
    "          index=features_train.columns[sorted_idx]).plot.bar(ax=ax);"
   ]
  },
  {
   "cell_type": "code",
   "execution_count": 86,
   "id": "609e80f1",
   "metadata": {},
   "outputs": [
    {
     "data": {
      "text/plain": [
       "Index(['Auction', 'VNST', 'IsOnlineSale', 'VehOdo', 'WheelType', 'VehicleAge',\n",
       "       'WarrantyCost', 'TopThreeAmericanName'],\n",
       "      dtype='object')"
      ]
     },
     "execution_count": 86,
     "metadata": {},
     "output_type": "execute_result"
    }
   ],
   "source": [
    "features_train.columns[sorted_idx][:8]"
   ]
  },
  {
   "cell_type": "code",
   "execution_count": 87,
   "id": "02c645ec",
   "metadata": {},
   "outputs": [
    {
     "data": {
      "text/plain": [
       "Index(['PurchMonth', 'MMRAcquisitonRetailCleanPrice', 'PurchYear',\n",
       "       'MMRAcquisitionRetailAveragePrice', 'Size',\n",
       "       'MMRCurrentAuctionAveragePrice', 'MMRCurrentRetailAveragePrice',\n",
       "       'MMRCurrentRetailCleanPrice', 'MMRAcquisitionAuctionCleanPrice',\n",
       "       'MMRAcquisitionAuctionAveragePrice', 'MMRCurrentAuctionCleanPrice',\n",
       "       'VehBCost', 'Transmission', 'Color', 'BYRNO', 'Nationality', 'Trim',\n",
       "       'Make'],\n",
       "      dtype='object')"
      ]
     },
     "execution_count": 87,
     "metadata": {},
     "output_type": "execute_result"
    }
   ],
   "source": [
    "features_train.columns[sorted_idx][8:]"
   ]
  },
  {
   "cell_type": "code",
   "execution_count": 88,
   "id": "6e091895",
   "metadata": {},
   "outputs": [
    {
     "data": {
      "text/plain": [
       "['Auction',\n",
       " 'VNST',\n",
       " 'IsOnlineSale',\n",
       " 'VehOdo',\n",
       " 'WheelType',\n",
       " 'VehicleAge',\n",
       " 'WarrantyCost',\n",
       " 'TopThreeAmericanName']"
      ]
     },
     "execution_count": 88,
     "metadata": {},
     "output_type": "execute_result"
    }
   ],
   "source": [
    "list(features_train.columns[sorted_idx][:8])"
   ]
  },
  {
   "cell_type": "code",
   "execution_count": 89,
   "id": "420590bb",
   "metadata": {},
   "outputs": [],
   "source": [
    "def engineer_features(features):\n",
    "    \"\"\"\n",
    "    Prepares feature DataFrame for modelling through feature engineering and selection.\n",
    "\n",
    "    Args:\n",
    "        features (pd.DataFrame) : DataFrame containing features.\n",
    "\n",
    "    Returns:\n",
    "        features (pd.DataFrame) : Feature matrix used for modeling.\n",
    "    \"\"\"\n",
    "    remove_cols = list(features.columns[sorted_idx][:8])\n",
    "    features = features.drop(remove_cols, axis = 1)\n",
    "        \n",
    "    return features"
   ]
  },
  {
   "cell_type": "code",
   "execution_count": 90,
   "id": "684a1bc0",
   "metadata": {},
   "outputs": [],
   "source": [
    "features_train = engineer_features(features_train) #create final features_train"
   ]
  },
  {
   "cell_type": "code",
   "execution_count": 91,
   "id": "0d2b67e4",
   "metadata": {},
   "outputs": [
    {
     "data": {
      "text/html": [
       "<div>\n",
       "<style scoped>\n",
       "    .dataframe tbody tr th:only-of-type {\n",
       "        vertical-align: middle;\n",
       "    }\n",
       "\n",
       "    .dataframe tbody tr th {\n",
       "        vertical-align: top;\n",
       "    }\n",
       "\n",
       "    .dataframe thead th {\n",
       "        text-align: right;\n",
       "    }\n",
       "</style>\n",
       "<table border=\"1\" class=\"dataframe\">\n",
       "  <thead>\n",
       "    <tr style=\"text-align: right;\">\n",
       "      <th></th>\n",
       "      <th>Make</th>\n",
       "      <th>Trim</th>\n",
       "      <th>Color</th>\n",
       "      <th>Transmission</th>\n",
       "      <th>Nationality</th>\n",
       "      <th>Size</th>\n",
       "      <th>MMRAcquisitionAuctionAveragePrice</th>\n",
       "      <th>MMRAcquisitionAuctionCleanPrice</th>\n",
       "      <th>MMRAcquisitionRetailAveragePrice</th>\n",
       "      <th>MMRAcquisitonRetailCleanPrice</th>\n",
       "      <th>MMRCurrentAuctionAveragePrice</th>\n",
       "      <th>MMRCurrentAuctionCleanPrice</th>\n",
       "      <th>MMRCurrentRetailAveragePrice</th>\n",
       "      <th>MMRCurrentRetailCleanPrice</th>\n",
       "      <th>BYRNO</th>\n",
       "      <th>VehBCost</th>\n",
       "      <th>PurchMonth</th>\n",
       "      <th>PurchYear</th>\n",
       "    </tr>\n",
       "  </thead>\n",
       "  <tbody>\n",
       "    <tr>\n",
       "      <th>0</th>\n",
       "      <td>FORD</td>\n",
       "      <td>SEL</td>\n",
       "      <td>GREY</td>\n",
       "      <td>0</td>\n",
       "      <td>AMERICAN</td>\n",
       "      <td>CROSSOVER</td>\n",
       "      <td>11450.0</td>\n",
       "      <td>13416.0</td>\n",
       "      <td>12866.0</td>\n",
       "      <td>14989.0</td>\n",
       "      <td>11778.0</td>\n",
       "      <td>13783.0</td>\n",
       "      <td>13220.0</td>\n",
       "      <td>15386.0</td>\n",
       "      <td>17675</td>\n",
       "      <td>8000.0</td>\n",
       "      <td>2</td>\n",
       "      <td>2009</td>\n",
       "    </tr>\n",
       "    <tr>\n",
       "      <th>1</th>\n",
       "      <td>GMC</td>\n",
       "      <td>SLE</td>\n",
       "      <td>WHITE</td>\n",
       "      <td>0</td>\n",
       "      <td>AMERICAN</td>\n",
       "      <td>MEDIUM SUV</td>\n",
       "      <td>6590.0</td>\n",
       "      <td>8194.0</td>\n",
       "      <td>7617.0</td>\n",
       "      <td>9350.0</td>\n",
       "      <td>8340.0</td>\n",
       "      <td>10119.0</td>\n",
       "      <td>9507.0</td>\n",
       "      <td>11429.0</td>\n",
       "      <td>20740</td>\n",
       "      <td>7195.0</td>\n",
       "      <td>2</td>\n",
       "      <td>2009</td>\n",
       "    </tr>\n",
       "    <tr>\n",
       "      <th>2</th>\n",
       "      <td>DODGE</td>\n",
       "      <td>SE</td>\n",
       "      <td>WHITE</td>\n",
       "      <td>0</td>\n",
       "      <td>AMERICAN</td>\n",
       "      <td>MEDIUM</td>\n",
       "      <td>7774.0</td>\n",
       "      <td>8571.0</td>\n",
       "      <td>10852.0</td>\n",
       "      <td>11770.0</td>\n",
       "      <td>7901.0</td>\n",
       "      <td>8376.0</td>\n",
       "      <td>11284.0</td>\n",
       "      <td>11757.0</td>\n",
       "      <td>99761</td>\n",
       "      <td>7300.0</td>\n",
       "      <td>2</td>\n",
       "      <td>2010</td>\n",
       "    </tr>\n",
       "    <tr>\n",
       "      <th>3</th>\n",
       "      <td>CHEVROLET</td>\n",
       "      <td>Bas</td>\n",
       "      <td>WHITE</td>\n",
       "      <td>0</td>\n",
       "      <td>AMERICAN</td>\n",
       "      <td>LARGE</td>\n",
       "      <td>3643.0</td>\n",
       "      <td>4910.0</td>\n",
       "      <td>4434.0</td>\n",
       "      <td>5803.0</td>\n",
       "      <td>3643.0</td>\n",
       "      <td>4910.0</td>\n",
       "      <td>4434.0</td>\n",
       "      <td>5803.0</td>\n",
       "      <td>3453</td>\n",
       "      <td>5655.0</td>\n",
       "      <td>4</td>\n",
       "      <td>2009</td>\n",
       "    </tr>\n",
       "    <tr>\n",
       "      <th>4</th>\n",
       "      <td>HYUNDAI</td>\n",
       "      <td>GLS</td>\n",
       "      <td>SILVER</td>\n",
       "      <td>0</td>\n",
       "      <td>OTHER ASIAN</td>\n",
       "      <td>MEDIUM</td>\n",
       "      <td>6584.0</td>\n",
       "      <td>7417.0</td>\n",
       "      <td>10231.0</td>\n",
       "      <td>11591.0</td>\n",
       "      <td>5989.0</td>\n",
       "      <td>7147.0</td>\n",
       "      <td>9257.0</td>\n",
       "      <td>10548.0</td>\n",
       "      <td>8172</td>\n",
       "      <td>7900.0</td>\n",
       "      <td>6</td>\n",
       "      <td>2010</td>\n",
       "    </tr>\n",
       "    <tr>\n",
       "      <th>...</th>\n",
       "      <td>...</td>\n",
       "      <td>...</td>\n",
       "      <td>...</td>\n",
       "      <td>...</td>\n",
       "      <td>...</td>\n",
       "      <td>...</td>\n",
       "      <td>...</td>\n",
       "      <td>...</td>\n",
       "      <td>...</td>\n",
       "      <td>...</td>\n",
       "      <td>...</td>\n",
       "      <td>...</td>\n",
       "      <td>...</td>\n",
       "      <td>...</td>\n",
       "      <td>...</td>\n",
       "      <td>...</td>\n",
       "      <td>...</td>\n",
       "      <td>...</td>\n",
       "    </tr>\n",
       "    <tr>\n",
       "      <th>58368</th>\n",
       "      <td>CHRYSLER</td>\n",
       "      <td>Bas</td>\n",
       "      <td>BLUE</td>\n",
       "      <td>0</td>\n",
       "      <td>AMERICAN</td>\n",
       "      <td>MEDIUM</td>\n",
       "      <td>7471.0</td>\n",
       "      <td>8455.0</td>\n",
       "      <td>10916.0</td>\n",
       "      <td>11881.0</td>\n",
       "      <td>7612.0</td>\n",
       "      <td>8615.0</td>\n",
       "      <td>10763.0</td>\n",
       "      <td>11962.0</td>\n",
       "      <td>99750</td>\n",
       "      <td>8300.0</td>\n",
       "      <td>6</td>\n",
       "      <td>2010</td>\n",
       "    </tr>\n",
       "    <tr>\n",
       "      <th>58369</th>\n",
       "      <td>KIA</td>\n",
       "      <td>EX</td>\n",
       "      <td>SILVER</td>\n",
       "      <td>0</td>\n",
       "      <td>OTHER ASIAN</td>\n",
       "      <td>MEDIUM</td>\n",
       "      <td>5768.0</td>\n",
       "      <td>6561.0</td>\n",
       "      <td>9019.0</td>\n",
       "      <td>9670.0</td>\n",
       "      <td>4194.0</td>\n",
       "      <td>5611.0</td>\n",
       "      <td>7125.0</td>\n",
       "      <td>8957.0</td>\n",
       "      <td>18881</td>\n",
       "      <td>7045.0</td>\n",
       "      <td>4</td>\n",
       "      <td>2010</td>\n",
       "    </tr>\n",
       "    <tr>\n",
       "      <th>58370</th>\n",
       "      <td>CHEVROLET</td>\n",
       "      <td>LT</td>\n",
       "      <td>SILVER</td>\n",
       "      <td>0</td>\n",
       "      <td>AMERICAN</td>\n",
       "      <td>MEDIUM</td>\n",
       "      <td>7162.0</td>\n",
       "      <td>8268.0</td>\n",
       "      <td>10348.0</td>\n",
       "      <td>11125.0</td>\n",
       "      <td>6736.0</td>\n",
       "      <td>8347.0</td>\n",
       "      <td>10068.0</td>\n",
       "      <td>11984.0</td>\n",
       "      <td>99750</td>\n",
       "      <td>6700.0</td>\n",
       "      <td>7</td>\n",
       "      <td>2010</td>\n",
       "    </tr>\n",
       "    <tr>\n",
       "      <th>58371</th>\n",
       "      <td>PONTIAC</td>\n",
       "      <td>Bas</td>\n",
       "      <td>RED</td>\n",
       "      <td>0</td>\n",
       "      <td>AMERICAN</td>\n",
       "      <td>MEDIUM</td>\n",
       "      <td>7091.0</td>\n",
       "      <td>8581.0</td>\n",
       "      <td>8158.0</td>\n",
       "      <td>9767.0</td>\n",
       "      <td>7148.0</td>\n",
       "      <td>8389.0</td>\n",
       "      <td>10401.0</td>\n",
       "      <td>12057.0</td>\n",
       "      <td>99740</td>\n",
       "      <td>7295.0</td>\n",
       "      <td>9</td>\n",
       "      <td>2009</td>\n",
       "    </tr>\n",
       "    <tr>\n",
       "      <th>58372</th>\n",
       "      <td>DODGE</td>\n",
       "      <td>Bas</td>\n",
       "      <td>BEIGE</td>\n",
       "      <td>0</td>\n",
       "      <td>AMERICAN</td>\n",
       "      <td>VAN</td>\n",
       "      <td>6475.0</td>\n",
       "      <td>8090.0</td>\n",
       "      <td>7493.0</td>\n",
       "      <td>9237.0</td>\n",
       "      <td>6630.0</td>\n",
       "      <td>8327.0</td>\n",
       "      <td>7660.0</td>\n",
       "      <td>9493.0</td>\n",
       "      <td>20207</td>\n",
       "      <td>6280.0</td>\n",
       "      <td>8</td>\n",
       "      <td>2009</td>\n",
       "    </tr>\n",
       "  </tbody>\n",
       "</table>\n",
       "<p>58373 rows × 18 columns</p>\n",
       "</div>"
      ],
      "text/plain": [
       "            Make Trim   Color Transmission  Nationality        Size  \\\n",
       "0           FORD  SEL    GREY            0     AMERICAN   CROSSOVER   \n",
       "1            GMC  SLE   WHITE            0     AMERICAN  MEDIUM SUV   \n",
       "2          DODGE   SE   WHITE            0     AMERICAN      MEDIUM   \n",
       "3      CHEVROLET  Bas   WHITE            0     AMERICAN       LARGE   \n",
       "4        HYUNDAI  GLS  SILVER            0  OTHER ASIAN      MEDIUM   \n",
       "...          ...  ...     ...          ...          ...         ...   \n",
       "58368   CHRYSLER  Bas    BLUE            0     AMERICAN      MEDIUM   \n",
       "58369        KIA   EX  SILVER            0  OTHER ASIAN      MEDIUM   \n",
       "58370  CHEVROLET   LT  SILVER            0     AMERICAN      MEDIUM   \n",
       "58371    PONTIAC  Bas     RED            0     AMERICAN      MEDIUM   \n",
       "58372      DODGE  Bas   BEIGE            0     AMERICAN         VAN   \n",
       "\n",
       "       MMRAcquisitionAuctionAveragePrice  MMRAcquisitionAuctionCleanPrice  \\\n",
       "0                                11450.0                          13416.0   \n",
       "1                                 6590.0                           8194.0   \n",
       "2                                 7774.0                           8571.0   \n",
       "3                                 3643.0                           4910.0   \n",
       "4                                 6584.0                           7417.0   \n",
       "...                                  ...                              ...   \n",
       "58368                             7471.0                           8455.0   \n",
       "58369                             5768.0                           6561.0   \n",
       "58370                             7162.0                           8268.0   \n",
       "58371                             7091.0                           8581.0   \n",
       "58372                             6475.0                           8090.0   \n",
       "\n",
       "       MMRAcquisitionRetailAveragePrice  MMRAcquisitonRetailCleanPrice  \\\n",
       "0                               12866.0                        14989.0   \n",
       "1                                7617.0                         9350.0   \n",
       "2                               10852.0                        11770.0   \n",
       "3                                4434.0                         5803.0   \n",
       "4                               10231.0                        11591.0   \n",
       "...                                 ...                            ...   \n",
       "58368                           10916.0                        11881.0   \n",
       "58369                            9019.0                         9670.0   \n",
       "58370                           10348.0                        11125.0   \n",
       "58371                            8158.0                         9767.0   \n",
       "58372                            7493.0                         9237.0   \n",
       "\n",
       "       MMRCurrentAuctionAveragePrice  MMRCurrentAuctionCleanPrice  \\\n",
       "0                            11778.0                      13783.0   \n",
       "1                             8340.0                      10119.0   \n",
       "2                             7901.0                       8376.0   \n",
       "3                             3643.0                       4910.0   \n",
       "4                             5989.0                       7147.0   \n",
       "...                              ...                          ...   \n",
       "58368                         7612.0                       8615.0   \n",
       "58369                         4194.0                       5611.0   \n",
       "58370                         6736.0                       8347.0   \n",
       "58371                         7148.0                       8389.0   \n",
       "58372                         6630.0                       8327.0   \n",
       "\n",
       "       MMRCurrentRetailAveragePrice  MMRCurrentRetailCleanPrice  BYRNO  \\\n",
       "0                           13220.0                     15386.0  17675   \n",
       "1                            9507.0                     11429.0  20740   \n",
       "2                           11284.0                     11757.0  99761   \n",
       "3                            4434.0                      5803.0   3453   \n",
       "4                            9257.0                     10548.0   8172   \n",
       "...                             ...                         ...    ...   \n",
       "58368                       10763.0                     11962.0  99750   \n",
       "58369                        7125.0                      8957.0  18881   \n",
       "58370                       10068.0                     11984.0  99750   \n",
       "58371                       10401.0                     12057.0  99740   \n",
       "58372                        7660.0                      9493.0  20207   \n",
       "\n",
       "       VehBCost  PurchMonth  PurchYear  \n",
       "0        8000.0           2       2009  \n",
       "1        7195.0           2       2009  \n",
       "2        7300.0           2       2010  \n",
       "3        5655.0           4       2009  \n",
       "4        7900.0           6       2010  \n",
       "...         ...         ...        ...  \n",
       "58368    8300.0           6       2010  \n",
       "58369    7045.0           4       2010  \n",
       "58370    6700.0           7       2010  \n",
       "58371    7295.0           9       2009  \n",
       "58372    6280.0           8       2009  \n",
       "\n",
       "[58373 rows x 18 columns]"
      ]
     },
     "execution_count": 91,
     "metadata": {},
     "output_type": "execute_result"
    }
   ],
   "source": [
    "features_train"
   ]
  },
  {
   "cell_type": "code",
   "execution_count": 93,
   "id": "e33d208b",
   "metadata": {},
   "outputs": [],
   "source": [
    "removed = ['Auction',\n",
    "           'VNST',\n",
    "           'IsOnlineSale',\n",
    "           'VehOdo',\n",
    "           'WheelType', \n",
    "           'VehicleAge',\n",
    "           'WarrantyCost',\n",
    "           'TopThreeAmericanName']\n",
    "\n",
    "ohe_cols = [col for col in ohe_cols if col not in removed]\n",
    "num_cols = [col for col in num_cols if col not in removed]\n",
    "\n",
    "col_transformer = ColumnTransformer(transformers=[(\"OHE\", OneHotEncoder(handle_unknown=\"ignore\"), ohe_cols)],\n",
    "                                    remainder=\"passthrough\",\n",
    "                                    sparse_threshold=0)"
   ]
  },
  {
   "cell_type": "code",
   "execution_count": 94,
   "id": "140d0abe",
   "metadata": {},
   "outputs": [
    {
     "data": {
      "text/plain": [
       "0.22041744398421906"
      ]
     },
     "execution_count": 94,
     "metadata": {},
     "output_type": "execute_result"
    }
   ],
   "source": [
    "# naive bayes\n",
    "from sklearn.naive_bayes import GaussianNB\n",
    "\n",
    "model_nb = GaussianNB()\n",
    "\n",
    "pipe_nb = Pipeline([(\"col_encoder\", col_transformer),\n",
    "                    (\"scaler\", scaler),\n",
    "                    (\"model\", model_nb)])\n",
    "\n",
    "cross_val_score(estimator=pipe_nb,\n",
    "                X=features_train,\n",
    "                y=target_train,\n",
    "                cv=3,\n",
    "                scoring='f1',\n",
    "                n_jobs=-1).mean()"
   ]
  },
  {
   "cell_type": "code",
   "execution_count": 95,
   "id": "d024140d",
   "metadata": {},
   "outputs": [
    {
     "name": "stdout",
     "output_type": "stream",
     "text": [
      "Pipeline(steps=[('col_encoder',\n",
      "                 ColumnTransformer(remainder='passthrough', sparse_threshold=0,\n",
      "                                   transformers=[('OHE',\n",
      "                                                  OneHotEncoder(handle_unknown='ignore'),\n",
      "                                                  ['Make', 'Trim', 'Color',\n",
      "                                                   'Nationality', 'Size',\n",
      "                                                   'BYRNO'])])),\n",
      "                ('scaler', StandardScaler()),\n",
      "                ('model',\n",
      "                 LogisticRegression(C=0.005, class_weight='balanced',\n",
      "                                    max_iter=10000.0, random_state=42))])\n",
      "0.2881155104542826\n"
     ]
    }
   ],
   "source": [
    "# logistic regression\n",
    "model_lr = LogisticRegression(class_weight=\"balanced\",\n",
    "                              random_state=42,\n",
    "                              max_iter=1e4)\n",
    "\n",
    "model_pipe_lr = Pipeline([(\"col_encoder\", col_transformer),\n",
    "                          (\"scaler\", scaler),\n",
    "                          (\"model\", model_lr)])\n",
    "\n",
    "search_grid_lr = {\"model__C\": [0.005, 0.01, 0.05, 1]}\n",
    "\n",
    "grid_model_lr = GridSearchCV(estimator=model_pipe_lr,\n",
    "                             param_grid=search_grid_lr,\n",
    "                             cv=3,\n",
    "                             scoring=\"f1\")\n",
    "\n",
    "grid_model_lr.fit(features_train, target_train)\n",
    "\n",
    "print(grid_model_lr.best_estimator_)\n",
    "print(grid_model_lr.best_score_)"
   ]
  },
  {
   "cell_type": "code",
   "execution_count": null,
   "id": "e1d5dead",
   "metadata": {},
   "outputs": [],
   "source": [
    "# knn\n",
    "from sklearn.neighbors import KNeighborsClassifier\n",
    "\n",
    "model_knn = KNeighborsClassifier()\n",
    "\n",
    "# tune hyperparameters\n",
    "model_pipe_knn = Pipeline([(\"col_encoder\", col_transformer),\n",
    "                           (\"scaler\", scaler),\n",
    "                           (\"model\", model_knn)])\n",
    "\n",
    "search_grid_knn = {\"model__n_neighbors\": range(1, 6),\n",
    "                   \"model__weights\": ['uniform', 'distance']}\n",
    "\n",
    "grid_model_knn = GridSearchCV(estimator=model_pipe_knn,\n",
    "                              param_grid=search_grid_knn,\n",
    "                              cv=3,\n",
    "                              scoring=\"f1\")\n",
    "\n",
    "grid_model_knn.fit(features_train, target_train)\n",
    "\n",
    "print(grid_model_knn.best_estimator_)\n",
    "print(grid_model_knn.best_score_)"
   ]
  },
  {
   "cell_type": "code",
   "execution_count": null,
   "id": "82ed473c",
   "metadata": {},
   "outputs": [],
   "source": [
    "# svm \n",
    "from sklearn.svm import SVC\n",
    "\n",
    "model_svm = SVC(class_weight=\"balanced\",\n",
    "                random_state=42)\n",
    "\n",
    "model_pipe_svm_poly = Pipeline([(\"col_encoder\", col_transformer),\n",
    "                               (\"scaler\", scaler),\n",
    "                               (\"model\", model_svm)])\n",
    "\n",
    "search_grid_svm = {\"model__C\": [0.01, 0.1, 1, 10, 100],\n",
    "                   \"model__kernel\": ['linear', 'poly', 'rgb']}\n",
    "\n",
    "grid_model_svm = GridSearchCV(estimator=model_pipe_svm_poly,\n",
    "                              param_grid=search_grid_svm,\n",
    "                              cv=3,\n",
    "                              scoring=\"f1\")\n",
    "\n",
    "grid_model_svm.fit(features_train, target_train)\n",
    "\n",
    "print(grid_model_svm.best_estimator_)\n",
    "print(grid_model_svm.best_score_)"
   ]
  },
  {
   "cell_type": "code",
   "execution_count": 40,
   "id": "046006e5",
   "metadata": {},
   "outputs": [
    {
     "name": "stdout",
     "output_type": "stream",
     "text": [
      "Pipeline(steps=[('col_encoder',\n",
      "                 ColumnTransformer(remainder='passthrough', sparse_threshold=0,\n",
      "                                   transformers=[('OHE',\n",
      "                                                  OneHotEncoder(handle_unknown='ignore'),\n",
      "                                                  ['Make', 'Trim', 'Color',\n",
      "                                                   'Nationality', 'Size',\n",
      "                                                   'BYRNO'])])),\n",
      "                ('model',\n",
      "                 DecisionTreeClassifier(class_weight='balanced', max_depth=5,\n",
      "                                        random_state=42))])\n",
      "0.27467136430252176\n"
     ]
    }
   ],
   "source": [
    "# decision tree\n",
    "from sklearn.tree import DecisionTreeClassifier\n",
    "\n",
    "model_dt = DecisionTreeClassifier(class_weight=\"balanced\", random_state=42)\n",
    "\n",
    "model_pipe_dt = Pipeline([(\"col_encoder\", col_transformer),\n",
    "                          (\"model\", model_dt)])\n",
    "\n",
    "search_grid_dt = {\"model__max_depth\": range(1, 10)}\n",
    "\n",
    "grid_model_dt = GridSearchCV(estimator=model_pipe_dt,\n",
    "                             param_grid=search_grid_dt,\n",
    "                             cv=3,\n",
    "                             scoring=\"f1\")\n",
    "\n",
    "grid_model_dt.fit(features_train, target_train)\n",
    "\n",
    "print(grid_model_dt.best_estimator_)\n",
    "print(grid_model_dt.best_score_)"
   ]
  },
  {
   "cell_type": "code",
   "execution_count": null,
   "id": "5afa2137",
   "metadata": {},
   "outputs": [],
   "source": [
    "from sklearn.ensemble import RandomForestClassifier\n",
    "\n",
    "model_rf = RandomForestClassifier(class_weight=\"balanced\", \n",
    "                                  random_state=42)\n",
    "\n",
    "# tune hyperparameters\n",
    "model_pipe_rf = Pipeline([(\"col_encoder\", col_transformer),\n",
    "                          (\"model\", model_rf)])\n",
    "\n",
    "search_grid_rf = {\"model__max_depth\": range(1, 10)}\n",
    "\n",
    "grid_model_rf = GridSearchCV(estimator=model_pipe_rf,\n",
    "                             param_grid=search_grid_rf,\n",
    "                             cv=3,\n",
    "                             scoring=\"f1\")\n",
    "\n",
    "grid_model_rf.fit(features_train, target_train)\n",
    "\n",
    "print(grid_model_rf.best_estimator_)\n",
    "print(grid_model_rf.best_score_)"
   ]
  },
  {
   "cell_type": "markdown",
   "id": "88f1a839",
   "metadata": {},
   "source": [
    "Model selection"
   ]
  },
  {
   "cell_type": "code",
   "execution_count": null,
   "id": "d05a9970",
   "metadata": {},
   "outputs": [],
   "source": [
    "# evaluation on test set (to be done after feature engineering)\n",
    "# target_test_pred = grid_model_rf.predict(features_test)\n",
    "# print(classification_report(target_test,target_test_pred))"
   ]
  },
  {
   "cell_type": "code",
   "execution_count": null,
   "id": "be1259b3",
   "metadata": {},
   "outputs": [],
   "source": [
    "# model interpretation"
   ]
  },
  {
   "cell_type": "code",
   "execution_count": null,
   "id": "2dc7ac30",
   "metadata": {},
   "outputs": [],
   "source": [
    "# predictions on aim data"
   ]
  }
 ],
 "metadata": {
  "kernelspec": {
   "display_name": "Python 3 (ipykernel)",
   "language": "python",
   "name": "python3"
  },
  "language_info": {
   "codemirror_mode": {
    "name": "ipython",
    "version": 3
   },
   "file_extension": ".py",
   "mimetype": "text/x-python",
   "name": "python",
   "nbconvert_exporter": "python",
   "pygments_lexer": "ipython3",
   "version": "3.9.7"
  }
 },
 "nbformat": 4,
 "nbformat_minor": 5
}
