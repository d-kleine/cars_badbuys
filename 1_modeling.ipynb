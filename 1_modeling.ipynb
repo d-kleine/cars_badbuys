{
 "cells": [
  {
   "cell_type": "markdown",
   "id": "3c6aa7d9",
   "metadata": {},
   "source": [
    "# Modeling"
   ]
  },
  {
   "cell_type": "code",
   "execution_count": null,
   "id": "56d44245",
   "metadata": {},
   "outputs": [],
   "source": [
    "import pickle\n",
    "import pandas as pd\n",
    "\n",
    "from sklearn.compose import ColumnTransformer\n",
    "from sklearn.preprocessing import OneHotEncoder, StandardScaler, PolynomialFeatures\n",
    "from sklearn.pipeline import Pipeline\n",
    "from sklearn.dummy import DummyClassifier\n",
    "from sklearn.model_selection import cross_val_score, GridSearchCV, validation_curve\n",
    "from sklearn.metrics import f1_score, recall_score, precision_score\n",
    "from sklearn.decomposition import PCA"
   ]
  },
  {
   "cell_type": "code",
   "execution_count": null,
   "id": "a735e2b9",
   "metadata": {},
   "outputs": [],
   "source": [
    "df_train = pickle.load(open('df_train_prep.p', 'rb'))\n",
    "df_test = pickle.load(open('df_test_prep.p', 'rb'))"
   ]
  },
  {
   "cell_type": "code",
   "execution_count": null,
   "id": "1be93a7f",
   "metadata": {},
   "outputs": [],
   "source": [
    "#instantiate feature matrix and target vector for train set\n",
    "features_train = df_train.drop(\"IsBadBuy\", axis=1)\n",
    "target_train = df_train.loc[:, \"IsBadBuy\"]"
   ]
  },
  {
   "cell_type": "code",
   "execution_count": null,
   "id": "983427a1",
   "metadata": {},
   "outputs": [],
   "source": [
    "#instantiate feature matrix and target vector for test set\n",
    "features_test = df_test.drop(\"IsBadBuy\", axis=1)\n",
    "target_test = df_test.loc[:, \"IsBadBuy\"]"
   ]
  },
  {
   "cell_type": "code",
   "execution_count": null,
   "id": "dfc03dc8",
   "metadata": {},
   "outputs": [],
   "source": [
    "features_train.info()"
   ]
  },
  {
   "cell_type": "code",
   "execution_count": null,
   "id": "1fa6d581",
   "metadata": {},
   "outputs": [],
   "source": [
    "# baseline model: randomly predicting the same number of cases in each class\n",
    "model_dummy = DummyClassifier(strategy='uniform', random_state=42)\n",
    "\n",
    "cross_val_score(estimator=model_dummy,\n",
    "                X=features_train, \n",
    "                y=target_train, \n",
    "                cv=3, \n",
    "                scoring='f1').mean()"
   ]
  },
  {
   "cell_type": "code",
   "execution_count": null,
   "id": "de4202f7",
   "metadata": {},
   "outputs": [],
   "source": [
    "features_train.select_dtypes('category').nunique()"
   ]
  },
  {
   "cell_type": "code",
   "execution_count": null,
   "id": "34ca57f7",
   "metadata": {},
   "outputs": [],
   "source": [
    "features_train.loc[:, 'Transmission'].unique()"
   ]
  },
  {
   "cell_type": "code",
   "execution_count": null,
   "id": "0f60ad60",
   "metadata": {},
   "outputs": [],
   "source": [
    "features_train.loc[:, 'Transmission'] = features_train.loc[:, 'Transmission'].replace({'AUTO':0, 'MANUAL':1})\n",
    "features_train.loc[:, 'Transmission'] = features_train.loc[:, 'Transmission'].astype('category')\n",
    "\n",
    "features_test.loc[:, 'Transmission'] = features_test.loc[:, 'Transmission'].replace({'AUTO':0, 'MANUAL':1})\n",
    "features_test.loc[:, 'Transmission'] = features_test.loc[:, 'Transmission'].astype('category')"
   ]
  },
  {
   "cell_type": "code",
   "execution_count": null,
   "id": "8dfba6bc",
   "metadata": {},
   "outputs": [],
   "source": [
    "features_train.select_dtypes('category').columns"
   ]
  },
  {
   "cell_type": "code",
   "execution_count": null,
   "id": "a9dd449d",
   "metadata": {},
   "outputs": [],
   "source": [
    "ohe_cols = ['Auction', 'Make', 'Trim', 'Color', 'WheelType',\n",
    "            'Nationality', 'Size', 'TopThreeAmericanName', 'BYRNO', 'VNST']"
   ]
  },
  {
   "cell_type": "code",
   "execution_count": null,
   "id": "4a783f47",
   "metadata": {},
   "outputs": [],
   "source": [
    "features_train.select_dtypes('number').columns"
   ]
  },
  {
   "cell_type": "code",
   "execution_count": null,
   "id": "63158fb2",
   "metadata": {},
   "outputs": [],
   "source": [
    "num_cols = ['VehicleAge', \n",
    "            'VehOdo', \n",
    "            'MMRAcquisitionAuctionAveragePrice',\n",
    "            'MMRAcquisitionAuctionCleanPrice', \n",
    "            'MMRAcquisitionRetailAveragePrice',\n",
    "            'MMRAcquisitonRetailCleanPrice', \n",
    "            'MMRCurrentAuctionAveragePrice',\n",
    "            'MMRCurrentAuctionCleanPrice', \n",
    "            'MMRCurrentRetailAveragePrice',\n",
    "            'MMRCurrentRetailCleanPrice', \n",
    "            'VehBCost', \n",
    "            'WarrantyCost', \n",
    "            'PurchYear']"
   ]
  },
  {
   "cell_type": "code",
   "execution_count": null,
   "id": "66a29cb4",
   "metadata": {},
   "outputs": [],
   "source": [
    "num_cols = features_train.select_dtypes('category').columns"
   ]
  },
  {
   "cell_type": "code",
   "execution_count": null,
   "id": "7fd7ea2c",
   "metadata": {},
   "outputs": [],
   "source": [
    "# one-hot encoding categorial columns and standardising mmr colums to handle high correlations\n",
    "col_transformer = ColumnTransformer(transformers=[(\"ohe\", OneHotEncoder(handle_unknown=\"ignore\"), ohe_cols)],\n",
    "                                    remainder=\"passthrough\",\n",
    "                                    sparse_threshold=0)\n",
    "\n",
    "scaler = StandardScaler()"
   ]
  },
  {
   "cell_type": "code",
   "execution_count": null,
   "id": "90f5fea6",
   "metadata": {},
   "outputs": [],
   "source": [
    "# baseline model: decision tree\n",
    "from sklearn.tree import DecisionTreeClassifier\n",
    "\n",
    "model_dt = DecisionTreeClassifier(class_weight=\"balanced\", random_state=42)\n",
    "\n",
    "# tune hyperparameters\n",
    "model_pipe_dt = Pipeline([(\"col_encoder\", col_transformer),\n",
    "                          (\"model\", model_dt)])\n",
    "\n",
    "search_grid_dt =  {\"model__max_depth\": range(1, 5)}\n",
    "\n",
    "grid_model_dt = GridSearchCV(estimator=model_pipe_dt,\n",
    "                             param_grid=search_grid_dt,\n",
    "                             cv=3,\n",
    "                             scoring=\"f1\")\n",
    "\n",
    "grid_model_dt.fit(features_train, target_train)\n",
    "\n",
    "print(grid_model_dt.best_estimator_)\n",
    "print(grid_model_dt.best_score_)"
   ]
  },
  {
   "cell_type": "code",
   "execution_count": null,
   "id": "8afd7040",
   "metadata": {},
   "outputs": [],
   "source": [
    "# imp_series = pd.Series(data=grid_model_dt[\"model\"].feature_importances_, index=features_train.columns)\n",
    "# imp_series.sort_values()"
   ]
  },
  {
   "cell_type": "code",
   "execution_count": null,
   "id": "1f29acd7",
   "metadata": {},
   "outputs": [],
   "source": [
    "# feature engineering"
   ]
  },
  {
   "cell_type": "code",
   "execution_count": null,
   "id": "3e1ab7b0",
   "metadata": {},
   "outputs": [],
   "source": [
    "# feature importances and feature selection"
   ]
  },
  {
   "cell_type": "code",
   "execution_count": null,
   "id": "91fa1597",
   "metadata": {},
   "outputs": [],
   "source": [
    "# naive bayes\n",
    "from sklearn.naive_bayes import GaussianNB\n",
    "\n",
    "model_nb = GaussianNB()\n",
    "\n",
    "pipe_nb = Pipeline([(\"col_encoder\", col_transformer),\n",
    "                    (\"scaler\", scaler),\n",
    "                    (\"model\", model_nb)])\n",
    "\n",
    "cross_val_score(estimator=pipe_nb, \n",
    "                X=features_train, \n",
    "                y=target_train, \n",
    "                cv=3, \n",
    "                scoring='f1', \n",
    "                n_jobs=-1).mean()"
   ]
  },
  {
   "cell_type": "code",
   "execution_count": null,
   "id": "d024140d",
   "metadata": {},
   "outputs": [],
   "source": [
    "# logistic regression\n",
    "from sklearn.linear_model import LogisticRegression\n",
    "\n",
    "model_lr = LogisticRegression(class_weight=\"balanced\", \n",
    "                              random_state=42, \n",
    "                              max_iter=1e4)\n",
    "\n",
    "model_pipe_lr = Pipeline([(\"col_encoder\", col_transformer),\n",
    "                          (\"scaler\", scaler),\n",
    "                          (\"model\", model_lr)])\n",
    "\n",
    "search_grid_lr = {\"model__C\": [80, 90, 100, 110]}\n",
    "\n",
    "grid_model_lr = GridSearchCV(estimator=model_pipe_lr,\n",
    "                             param_grid=search_grid_lr,\n",
    "                             cv=3,\n",
    "                             scoring=\"f1\")\n",
    "\n",
    "grid_model_lr.fit(features_train, target_train)\n",
    "\n",
    "print(grid_model_lr.best_estimator_)\n",
    "print(grid_model_lr.best_score_)"
   ]
  },
  {
   "cell_type": "code",
   "execution_count": null,
   "id": "e1d5dead",
   "metadata": {},
   "outputs": [],
   "source": [
    "# knn\n",
    "from sklearn.neighbors import KNeighborsClassifier\n",
    "\n",
    "model_knn = KNeighborsClassifier()\n",
    "\n",
    "# tune hyperparameters\n",
    "model_pipe_knn = Pipeline([(\"col_encoder\", col_transformer),\n",
    "                           (\"scaler\", scaler),\n",
    "                           (\"model\", model_knn)])\n",
    "\n",
    "search_grid_knn = {\"model__n_neighbors\": range(1, 11),\n",
    "                   \"model__weights\": ['uniform', 'distance']}\n",
    "\n",
    "grid_model_knn = GridSearchCV(estimator=model_pipe_knn,\n",
    "                              param_grid=search_grid_knn,\n",
    "                              cv=3,\n",
    "                              scoring=\"f1\")\n",
    "\n",
    "grid_model_knn.fit(features_train, target_train)\n",
    "\n",
    "print(grid_model_knn.best_estimator_)\n",
    "print(grid_model_knn.best_score_)"
   ]
  },
  {
   "cell_type": "code",
   "execution_count": null,
   "id": "82ed473c",
   "metadata": {},
   "outputs": [],
   "source": [
    "# svm\n",
    "from sklearn.svm import SVC\n",
    "\n",
    "model_svm = SVC(class_weight=\"balanced\",\n",
    "                random_state=42,\n",
    "                max_iter=1e4)\n",
    "\n",
    "model_pipe_svm_poly = Pipeline([(\"col_encoder\", col_transformer),\n",
    "                               (\"scaler\", scaler),\n",
    "                               (\"model\", model_svm)])\n",
    "\n",
    "search_grid_svm = {\"model__C\": [0.01, 0.1, 1, 10, 100],\n",
    "                   \"model__kernel\": ['linear', 'poly', 'rgb']}\n",
    "\n",
    "grid_model_svm = GridSearchCV(estimator=model_pipe_svm_poly,\n",
    "                              param_grid=search_grid_svm,\n",
    "                              cv=3,\n",
    "                              scoring=\"f1\")\n",
    "\n",
    "grid_model_svm.fit(features_train, target_train)\n",
    "\n",
    "print(grid_model_svm.best_estimator_)\n",
    "print(grid_model_svm.best_score_)"
   ]
  },
  {
   "cell_type": "code",
   "execution_count": null,
   "id": "5afa2137",
   "metadata": {},
   "outputs": [],
   "source": [
    "from sklearn.ensemble import RandomForestClassifier\n",
    "\n",
    "model_rf = RandomForestClassifier(class_weight=\"balanced\", \n",
    "                                  random_state=42)\n",
    "\n",
    "# tune hyperparameters\n",
    "model_pipe_rf = Pipeline([(\"col_encoder\", col_transformer),\n",
    "                          (\"model\", model_rf)])\n",
    "\n",
    "search_grid_rf = {\"model__n_estimators\": [100, 200, 300],\n",
    "                  \"model__max_depth\": range(1, 5)}\n",
    "\n",
    "grid_model_rf = GridSearchCV(estimator=model_pipe_rf,\n",
    "                             param_grid=search_grid_rf,\n",
    "                             cv=3,\n",
    "                             scoring=\"f1\")\n",
    "\n",
    "grid_model_rf.fit(features_train, target_train)\n",
    "\n",
    "print(grid_model_rf.best_estimator_)\n",
    "print(grid_model_rf.best_score_)"
   ]
  },
  {
   "cell_type": "code",
   "execution_count": null,
   "id": "67c3af21",
   "metadata": {},
   "outputs": [],
   "source": [
    "# feed-forward ANN"
   ]
  },
  {
   "cell_type": "markdown",
   "id": "88f1a839",
   "metadata": {},
   "source": [
    "Model selection"
   ]
  },
  {
   "cell_type": "code",
   "execution_count": null,
   "id": "be1259b3",
   "metadata": {},
   "outputs": [],
   "source": [
    "# model interpretation"
   ]
  },
  {
   "cell_type": "code",
   "execution_count": null,
   "id": "2dc7ac30",
   "metadata": {},
   "outputs": [],
   "source": [
    "# predictions on aim data"
   ]
  }
 ],
 "metadata": {
  "kernelspec": {
   "display_name": "Python 3 (ipykernel)",
   "language": "python",
   "name": "python3"
  },
  "language_info": {
   "codemirror_mode": {
    "name": "ipython",
    "version": 3
   },
   "file_extension": ".py",
   "mimetype": "text/x-python",
   "name": "python",
   "nbconvert_exporter": "python",
   "pygments_lexer": "ipython3",
   "version": "3.9.7"
  }
 },
 "nbformat": 4,
 "nbformat_minor": 5
}
