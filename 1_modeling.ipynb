{
 "cells": [
  {
   "cell_type": "markdown",
   "id": "3c6aa7d9",
   "metadata": {},
   "source": [
    "# Feature level"
   ]
  },
  {
   "cell_type": "code",
   "execution_count": 1,
   "id": "56d44245",
   "metadata": {},
   "outputs": [],
   "source": [
    "from sklearn.inspection import permutation_importance\n",
    "from sklearn.compose import ColumnTransformer\n",
    "from sklearn.preprocessing import OneHotEncoder, StandardScaler\n",
    "from sklearn.pipeline import Pipeline\n",
    "from sklearn.dummy import DummyClassifier\n",
    "from sklearn.model_selection import cross_val_score, GridSearchCV, cross_validate\n",
    "from sklearn.metrics import f1_score, recall_score, precision_score\n",
    "from sklearn.decomposition import PCA\n",
    "from sklearn.metrics import precision_score, recall_score, f1_score, classification_report"
   ]
  },
  {
   "cell_type": "code",
   "execution_count": 2,
   "id": "a735e2b9",
   "metadata": {},
   "outputs": [],
   "source": [
    "import pandas as pd\n",
    "\n",
    "df_train = pd.read_pickle('df_train_prep.p')\n",
    "df_test = pd.read_pickle('df_test_prep.p')"
   ]
  },
  {
   "cell_type": "code",
   "execution_count": 3,
   "id": "1be93a7f",
   "metadata": {},
   "outputs": [],
   "source": [
    "#instantiate feature matrix and target vector for train set\n",
    "features_train = df_train.drop(\"IsBadBuy\", axis=1)\n",
    "target_train = df_train.loc[:, \"IsBadBuy\"]\n",
    "\n",
    "#for testing\n",
    "features_train_copy = features_train.copy()"
   ]
  },
  {
   "cell_type": "code",
   "execution_count": 4,
   "id": "88f6228a",
   "metadata": {},
   "outputs": [
    {
     "data": {
      "text/plain": [
       "0    0.876158\n",
       "1    0.123842\n",
       "Name: IsBadBuy, dtype: float64"
      ]
     },
     "execution_count": 4,
     "metadata": {},
     "output_type": "execute_result"
    }
   ],
   "source": [
    "#class distribution\n",
    "target_train.value_counts(normalize=True)"
   ]
  },
  {
   "cell_type": "code",
   "execution_count": 5,
   "id": "983427a1",
   "metadata": {},
   "outputs": [],
   "source": [
    "#instantiate feature matrix and target vector for test set\n",
    "features_test = df_test.drop(\"IsBadBuy\", axis=1)\n",
    "target_test = df_test.loc[:, \"IsBadBuy\"]"
   ]
  },
  {
   "cell_type": "code",
   "execution_count": 6,
   "id": "dfc03dc8",
   "metadata": {},
   "outputs": [
    {
     "name": "stdout",
     "output_type": "stream",
     "text": [
      "<class 'pandas.core.frame.DataFrame'>\n",
      "RangeIndex: 58373 entries, 0 to 58372\n",
      "Data columns (total 25 columns):\n",
      " #   Column                             Non-Null Count  Dtype   \n",
      "---  ------                             --------------  -----   \n",
      " 0   Auction                            58373 non-null  category\n",
      " 1   VehicleAge                         58373 non-null  int64   \n",
      " 2   Make                               58373 non-null  category\n",
      " 3   Trim                               58373 non-null  category\n",
      " 4   Color                              58373 non-null  category\n",
      " 5   Transmission                       58373 non-null  category\n",
      " 6   WheelType                          58373 non-null  category\n",
      " 7   VehOdo                             58373 non-null  int64   \n",
      " 8   Nationality                        58373 non-null  category\n",
      " 9   Size                               58373 non-null  category\n",
      " 10  TopThreeAmericanName               58373 non-null  category\n",
      " 11  MMRAcquisitionAuctionAveragePrice  58373 non-null  float64 \n",
      " 12  MMRAcquisitionAuctionCleanPrice    58373 non-null  float64 \n",
      " 13  MMRAcquisitionRetailAveragePrice   58373 non-null  float64 \n",
      " 14  MMRAcquisitonRetailCleanPrice      58373 non-null  float64 \n",
      " 15  MMRCurrentAuctionAveragePrice      58373 non-null  float64 \n",
      " 16  MMRCurrentAuctionCleanPrice        58373 non-null  float64 \n",
      " 17  MMRCurrentRetailAveragePrice       58373 non-null  float64 \n",
      " 18  MMRCurrentRetailCleanPrice         58373 non-null  float64 \n",
      " 19  BYRNO                              58373 non-null  category\n",
      " 20  VNST                               58373 non-null  category\n",
      " 21  VehBCost                           58373 non-null  float64 \n",
      " 22  IsOnlineSale                       58373 non-null  category\n",
      " 23  WarrantyCost                       58373 non-null  int64   \n",
      " 24  PurchYear                          58373 non-null  int64   \n",
      "dtypes: category(12), float64(9), int64(4)\n",
      "memory usage: 6.5 MB\n"
     ]
    }
   ],
   "source": [
    "features_train.info()"
   ]
  },
  {
   "cell_type": "code",
   "execution_count": 7,
   "id": "1fa6d581",
   "metadata": {},
   "outputs": [
    {
     "data": {
      "text/plain": [
       "0.19580426673003526"
      ]
     },
     "execution_count": 7,
     "metadata": {},
     "output_type": "execute_result"
    }
   ],
   "source": [
    "# baseline model: randomly predicting the same number of cases in each class\n",
    "model_dummy = DummyClassifier(strategy='uniform', random_state=42)\n",
    "\n",
    "cross_val_score(estimator=model_dummy,\n",
    "                X=features_train, \n",
    "                y=target_train, \n",
    "                cv=3, \n",
    "                scoring='f1').mean()"
   ]
  },
  {
   "cell_type": "code",
   "execution_count": 8,
   "id": "de4202f7",
   "metadata": {},
   "outputs": [
    {
     "data": {
      "text/plain": [
       "Auction                   3\n",
       "Make                     33\n",
       "Trim                    133\n",
       "Color                    16\n",
       "Transmission              2\n",
       "WheelType                 3\n",
       "Nationality               4\n",
       "Size                     12\n",
       "TopThreeAmericanName      4\n",
       "BYRNO                    72\n",
       "VNST                     37\n",
       "IsOnlineSale              2\n",
       "dtype: int64"
      ]
     },
     "execution_count": 8,
     "metadata": {},
     "output_type": "execute_result"
    }
   ],
   "source": [
    "features_train.select_dtypes('category').nunique()"
   ]
  },
  {
   "cell_type": "code",
   "execution_count": 9,
   "id": "34ca57f7",
   "metadata": {},
   "outputs": [
    {
     "data": {
      "text/plain": [
       "['AUTO', 'MANUAL']\n",
       "Categories (2, object): ['AUTO', 'MANUAL']"
      ]
     },
     "execution_count": 9,
     "metadata": {},
     "output_type": "execute_result"
    }
   ],
   "source": [
    "features_train.loc[:, 'Transmission'].unique()"
   ]
  },
  {
   "cell_type": "code",
   "execution_count": 10,
   "id": "0f60ad60",
   "metadata": {},
   "outputs": [
    {
     "name": "stderr",
     "output_type": "stream",
     "text": [
      "C:\\Users\\dk\\AppData\\Local\\Temp\\ipykernel_10880\\1451359090.py:2: DeprecationWarning: In a future version, `df.iloc[:, i] = newvals` will attempt to set the values inplace instead of always setting a new array. To retain the old behavior, use either `df[df.columns[i]] = newvals` or, if columns are non-unique, `df.isetitem(i, newvals)`\n",
      "  features_train.loc[:, 'Transmission'] = features_train.loc[:, 'Transmission'].replace({'AUTO':0, 'MANUAL':1})\n",
      "C:\\Users\\dk\\AppData\\Local\\Temp\\ipykernel_10880\\1451359090.py:3: DeprecationWarning: In a future version, `df.iloc[:, i] = newvals` will attempt to set the values inplace instead of always setting a new array. To retain the old behavior, use either `df[df.columns[i]] = newvals` or, if columns are non-unique, `df.isetitem(i, newvals)`\n",
      "  features_train.loc[:, 'Transmission'] = features_train.loc[:, 'Transmission'].astype('category')\n"
     ]
    }
   ],
   "source": [
    "# dummy coding\n",
    "features_train.loc[:, 'Transmission'] = features_train.loc[:, 'Transmission'].replace({'AUTO':0, 'MANUAL':1})\n",
    "features_train.loc[:, 'Transmission'] = features_train.loc[:, 'Transmission'].astype('category')"
   ]
  },
  {
   "cell_type": "code",
   "execution_count": 11,
   "id": "8dfba6bc",
   "metadata": {},
   "outputs": [
    {
     "data": {
      "text/plain": [
       "Index(['Auction', 'Make', 'Trim', 'Color', 'Transmission', 'WheelType',\n",
       "       'Nationality', 'Size', 'TopThreeAmericanName', 'BYRNO', 'VNST',\n",
       "       'IsOnlineSale'],\n",
       "      dtype='object')"
      ]
     },
     "execution_count": 11,
     "metadata": {},
     "output_type": "execute_result"
    }
   ],
   "source": [
    "features_train.select_dtypes('category').columns"
   ]
  },
  {
   "cell_type": "code",
   "execution_count": 12,
   "id": "a9dd449d",
   "metadata": {},
   "outputs": [],
   "source": [
    "ohe_cols = ['Auction', \n",
    "            'Make',\n",
    "            'Trim',\n",
    "            'Color', \n",
    "            'WheelType',\n",
    "            'Nationality', \n",
    "            'Size', \n",
    "            'TopThreeAmericanName', \n",
    "            'BYRNO', \n",
    "            'VNST']"
   ]
  },
  {
   "cell_type": "code",
   "execution_count": 13,
   "id": "4a783f47",
   "metadata": {},
   "outputs": [
    {
     "data": {
      "text/plain": [
       "Index(['VehicleAge', 'VehOdo', 'MMRAcquisitionAuctionAveragePrice',\n",
       "       'MMRAcquisitionAuctionCleanPrice', 'MMRAcquisitionRetailAveragePrice',\n",
       "       'MMRAcquisitonRetailCleanPrice', 'MMRCurrentAuctionAveragePrice',\n",
       "       'MMRCurrentAuctionCleanPrice', 'MMRCurrentRetailAveragePrice',\n",
       "       'MMRCurrentRetailCleanPrice', 'VehBCost', 'WarrantyCost', 'PurchYear'],\n",
       "      dtype='object')"
      ]
     },
     "execution_count": 13,
     "metadata": {},
     "output_type": "execute_result"
    }
   ],
   "source": [
    "features_train.select_dtypes('number').columns"
   ]
  },
  {
   "cell_type": "code",
   "execution_count": 14,
   "id": "63158fb2",
   "metadata": {},
   "outputs": [],
   "source": [
    "num_cols = ['VehicleAge', \n",
    "            'VehOdo', \n",
    "            'MMRAcquisitionAuctionAveragePrice',\n",
    "            'MMRAcquisitionAuctionCleanPrice', \n",
    "            'MMRAcquisitionRetailAveragePrice',\n",
    "            'MMRAcquisitonRetailCleanPrice', \n",
    "            'MMRCurrentAuctionAveragePrice',\n",
    "            'MMRCurrentAuctionCleanPrice', \n",
    "            'MMRCurrentRetailAveragePrice',\n",
    "            'MMRCurrentRetailCleanPrice', \n",
    "            'VehBCost', \n",
    "            'WarrantyCost',\n",
    "            'PurchYear']"
   ]
  },
  {
   "cell_type": "code",
   "execution_count": 15,
   "id": "66a29cb4",
   "metadata": {},
   "outputs": [],
   "source": [
    "num_cols = features_train.select_dtypes('category').columns"
   ]
  },
  {
   "cell_type": "code",
   "execution_count": 16,
   "id": "7fd7ea2c",
   "metadata": {},
   "outputs": [],
   "source": [
    "# one-hot encoding categorial columns and standardising mmr colums to handle high correlations\n",
    "col_transformer = ColumnTransformer(transformers=[(\"OHE\", \n",
    "                                                   OneHotEncoder(handle_unknown=\"ignore\", \n",
    "                                                                 drop='first'), \n",
    "                                                   ohe_cols)],\n",
    "                                    remainder=\"passthrough\",\n",
    "                                    sparse_threshold=0)\n",
    "\n",
    "scaler = StandardScaler()"
   ]
  },
  {
   "cell_type": "code",
   "execution_count": 17,
   "id": "90f5fea6",
   "metadata": {},
   "outputs": [
    {
     "name": "stderr",
     "output_type": "stream",
     "text": [
      "C:\\Users\\dk\\anaconda3\\lib\\site-packages\\sklearn\\preprocessing\\_encoders.py:202: UserWarning: Found unknown categories in columns [1, 2] during transform. These unknown categories will be encoded as all zeros\n",
      "  warnings.warn(\n",
      "C:\\Users\\dk\\anaconda3\\lib\\site-packages\\sklearn\\preprocessing\\_encoders.py:202: UserWarning: Found unknown categories in columns [2, 8] during transform. These unknown categories will be encoded as all zeros\n",
      "  warnings.warn(\n",
      "C:\\Users\\dk\\anaconda3\\lib\\site-packages\\sklearn\\preprocessing\\_encoders.py:202: UserWarning: Found unknown categories in columns [2] during transform. These unknown categories will be encoded as all zeros\n",
      "  warnings.warn(\n",
      "C:\\Users\\dk\\anaconda3\\lib\\site-packages\\sklearn\\preprocessing\\_encoders.py:202: UserWarning: Found unknown categories in columns [2, 8] during transform. These unknown categories will be encoded as all zeros\n",
      "  warnings.warn(\n",
      "C:\\Users\\dk\\anaconda3\\lib\\site-packages\\sklearn\\preprocessing\\_encoders.py:202: UserWarning: Found unknown categories in columns [1, 2, 8] during transform. These unknown categories will be encoded as all zeros\n",
      "  warnings.warn(\n"
     ]
    }
   ],
   "source": [
    "# simple model\n",
    "from sklearn.linear_model import LogisticRegression\n",
    "\n",
    "baseline_lr = LogisticRegression(class_weight=\"balanced\",\n",
    "                                 random_state=42,\n",
    "                                 max_iter=1000)\n",
    "\n",
    "pipe_base = Pipeline([(\"col_encoder\", col_transformer),\n",
    "                      (\"scaler\", scaler),\n",
    "                      (\"model\", baseline_lr)])\n",
    "\n",
    "pipe_base.fit(features_train, target_train)\n",
    "\n",
    "cv_results = cross_validate(estimator=pipe_base, \n",
    "                            X=features_train, \n",
    "                            y=target_train, \n",
    "                            cv=5, \n",
    "                            scoring=['precision', 'recall', 'f1'])"
   ]
  },
  {
   "cell_type": "code",
   "execution_count": 18,
   "id": "a4283b23",
   "metadata": {},
   "outputs": [
    {
     "data": {
      "text/plain": [
       "{'fit_time': array([3.08083987, 3.47083378, 3.05576229, 3.39761472, 2.94306183]),\n",
       " 'score_time': array([0.06001019, 0.05802584, 0.05664015, 0.05867863, 0.05854273]),\n",
       " 'test_precision': array([0.19845028, 0.19716727, 0.2021692 , 0.20292066, 0.20255434]),\n",
       " 'test_recall': array([0.63762102, 0.60650069, 0.64453665, 0.64429066, 0.62517289]),\n",
       " 'test_f1': array([0.30269206, 0.29759077, 0.30779392, 0.30863584, 0.30597394])}"
      ]
     },
     "execution_count": 18,
     "metadata": {},
     "output_type": "execute_result"
    }
   ],
   "source": [
    "cv_results"
   ]
  },
  {
   "cell_type": "code",
   "execution_count": 19,
   "id": "4bc166e3",
   "metadata": {},
   "outputs": [
    {
     "name": "stdout",
     "output_type": "stream",
     "text": [
      "precision:  0.20065234832827042\n",
      "recall:  0.6316243832167966\n",
      "f1:  0.3045373046211116\n"
     ]
    }
   ],
   "source": [
    "print('precision: ', list(cv_results.values())[2].mean())\n",
    "print('recall: ', list(cv_results.values())[3].mean())\n",
    "print('f1: ', list(cv_results.values())[4].mean())"
   ]
  },
  {
   "cell_type": "code",
   "execution_count": 20,
   "id": "08a36eb3",
   "metadata": {},
   "outputs": [],
   "source": [
    "# feature engineering\n",
    "\n",
    "# calculating average prices of MMR prices\n",
    "MMR_cols = ['MMRAcquisitionAuctionAveragePrice',\n",
    "            'MMRAcquisitionAuctionCleanPrice',\n",
    "            'MMRAcquisitionRetailAveragePrice',\n",
    "            'MMRAcquisitonRetailCleanPrice',\n",
    "            'MMRCurrentAuctionAveragePrice',\n",
    "            'MMRCurrentAuctionCleanPrice',\n",
    "            'MMRCurrentRetailAveragePrice',\n",
    "            'MMRCurrentRetailCleanPrice']\n",
    "\n",
    "features_train['AvgPrice'] = sum(features_train[col] for col in MMR_cols) / len(MMR_cols)\n",
    "\n",
    "# calculating average prices of Auctions\n",
    "MMR_auction = ['MMRAcquisitionAuctionAveragePrice',\n",
    "               'MMRAcquisitionAuctionCleanPrice',\n",
    "               'MMRCurrentAuctionAveragePrice',\n",
    "               'MMRCurrentAuctionCleanPrice']\n",
    "\n",
    "features_train['AvgPrice_Auction'] = sum(features_train[col] for col in MMR_auction) / len(MMR_auction)\n",
    "\n",
    "# calculating average prices of Retails\n",
    "MMR_retail = ['MMRAcquisitionAuctionAveragePrice',\n",
    "              'MMRAcquisitionAuctionCleanPrice',\n",
    "              'MMRCurrentAuctionAveragePrice',\n",
    "              'MMRCurrentAuctionCleanPrice']\n",
    "\n",
    "features_train['AvgPrice_Retail'] = sum(features_train[col] for col in MMR_retail) / len(MMR_retail)"
   ]
  },
  {
   "cell_type": "code",
   "execution_count": 21,
   "id": "16039ed8",
   "metadata": {},
   "outputs": [],
   "source": [
    "#feature engineering function\n",
    "def feature_engineering(features):\n",
    "    \"\"\"\n",
    "    Engineers features and selects most important ones.\n",
    "\n",
    "    Args:\n",
    "        features (pd.DataFrame) : Feature matrix\n",
    "\n",
    "    Returns:\n",
    "        features (pd.DataFrame) : Selected feature matrix.\n",
    "    \"\"\"\n",
    "    \n",
    "    # dummy coding\n",
    "    features.loc[:, 'Transmission'] = features.loc[:, 'Transmission'].replace({'AUTO':0, 'MANUAL':1})\n",
    "    features.loc[:, 'Transmission'] = features.loc[:, 'Transmission'].astype('category')\n",
    "\n",
    "    ohe_cols = ['Auction',\n",
    "                'Make',\n",
    "                'Trim',\n",
    "                'Color',\n",
    "                'WheelType',\n",
    "                'Nationality',\n",
    "                'Size',\n",
    "                'TopThreeAmericanName',\n",
    "                'BYRNO',\n",
    "                'VNST']\n",
    "\n",
    "    num_cols = ['VehicleAge',\n",
    "                'VehOdo',\n",
    "                'MMRAcquisitionAuctionAveragePrice',\n",
    "                'MMRAcquisitionAuctionCleanPrice',\n",
    "                'MMRAcquisitionRetailAveragePrice',\n",
    "                'MMRAcquisitonRetailCleanPrice',\n",
    "                'MMRCurrentAuctionAveragePrice',\n",
    "                'MMRCurrentAuctionCleanPrice',\n",
    "                'MMRCurrentRetailAveragePrice',\n",
    "                'MMRCurrentRetailCleanPrice',\n",
    "                'VehBCost',\n",
    "                'WarrantyCost',\n",
    "                'PurchYear']\n",
    "\n",
    "    MMR_cols = ['MMRAcquisitionAuctionAveragePrice',\n",
    "                'MMRAcquisitionAuctionCleanPrice',\n",
    "                'MMRAcquisitionRetailAveragePrice',\n",
    "                'MMRAcquisitonRetailCleanPrice',\n",
    "                'MMRCurrentAuctionAveragePrice',\n",
    "                'MMRCurrentAuctionCleanPrice',\n",
    "                'MMRCurrentRetailAveragePrice',\n",
    "                'MMRCurrentRetailCleanPrice']\n",
    "\n",
    "    features['AvgPrice'] = sum(features[col] for col in MMR_cols) / len(MMR_cols)\n",
    "\n",
    "    MMR_auction = ['MMRAcquisitionAuctionAveragePrice',\n",
    "                   'MMRAcquisitionAuctionCleanPrice',\n",
    "                   'MMRCurrentAuctionAveragePrice',\n",
    "                   'MMRCurrentAuctionCleanPrice']\n",
    "    features['AvgPrice_Auction'] = sum(features[col]\n",
    "                                 for col in MMR_auction) / len(MMR_auction)\n",
    "\n",
    "    MMR_retail = ['MMRAcquisitionAuctionAveragePrice',\n",
    "                  'MMRAcquisitionAuctionCleanPrice',\n",
    "                  'MMRCurrentAuctionAveragePrice',\n",
    "                  'MMRCurrentAuctionCleanPrice']\n",
    "    features['AvgPrice_Retail'] = sum(features[col]\n",
    "                                for col in MMR_retail) / len(MMR_retail)\n",
    "\n",
    "    return features"
   ]
  },
  {
   "cell_type": "code",
   "execution_count": 22,
   "id": "61d81041",
   "metadata": {},
   "outputs": [
    {
     "name": "stderr",
     "output_type": "stream",
     "text": [
      "C:\\Users\\dk\\AppData\\Local\\Temp\\ipykernel_10880\\2203189024.py:14: DeprecationWarning: In a future version, `df.iloc[:, i] = newvals` will attempt to set the values inplace instead of always setting a new array. To retain the old behavior, use either `df[df.columns[i]] = newvals` or, if columns are non-unique, `df.isetitem(i, newvals)`\n",
      "  features.loc[:, 'Transmission'] = features.loc[:, 'Transmission'].replace({'AUTO':0, 'MANUAL':1})\n",
      "C:\\Users\\dk\\AppData\\Local\\Temp\\ipykernel_10880\\2203189024.py:15: DeprecationWarning: In a future version, `df.iloc[:, i] = newvals` will attempt to set the values inplace instead of always setting a new array. To retain the old behavior, use either `df[df.columns[i]] = newvals` or, if columns are non-unique, `df.isetitem(i, newvals)`\n",
      "  features.loc[:, 'Transmission'] = features.loc[:, 'Transmission'].astype('category')\n"
     ]
    },
    {
     "data": {
      "text/plain": [
       "True"
      ]
     },
     "execution_count": 22,
     "metadata": {},
     "output_type": "execute_result"
    }
   ],
   "source": [
    "#test function\n",
    "features_train_eng = feature_engineering(features_train_copy)\n",
    "(features_train_eng.equals(features_train))"
   ]
  },
  {
   "cell_type": "code",
   "execution_count": 23,
   "id": "d6dcfb92",
   "metadata": {},
   "outputs": [
    {
     "name": "stderr",
     "output_type": "stream",
     "text": [
      "C:\\Users\\dk\\anaconda3\\lib\\site-packages\\sklearn\\preprocessing\\_encoders.py:202: UserWarning: Found unknown categories in columns [1, 2] during transform. These unknown categories will be encoded as all zeros\n",
      "  warnings.warn(\n",
      "C:\\Users\\dk\\anaconda3\\lib\\site-packages\\sklearn\\preprocessing\\_encoders.py:202: UserWarning: Found unknown categories in columns [2, 8] during transform. These unknown categories will be encoded as all zeros\n",
      "  warnings.warn(\n",
      "C:\\Users\\dk\\anaconda3\\lib\\site-packages\\sklearn\\preprocessing\\_encoders.py:202: UserWarning: Found unknown categories in columns [2] during transform. These unknown categories will be encoded as all zeros\n",
      "  warnings.warn(\n",
      "C:\\Users\\dk\\anaconda3\\lib\\site-packages\\sklearn\\preprocessing\\_encoders.py:202: UserWarning: Found unknown categories in columns [2, 8] during transform. These unknown categories will be encoded as all zeros\n",
      "  warnings.warn(\n",
      "C:\\Users\\dk\\anaconda3\\lib\\site-packages\\sklearn\\preprocessing\\_encoders.py:202: UserWarning: Found unknown categories in columns [1, 2, 8] during transform. These unknown categories will be encoded as all zeros\n",
      "  warnings.warn(\n"
     ]
    },
    {
     "data": {
      "text/plain": [
       "{'fit_time': array([3.40407634, 3.59428644, 4.15136766, 3.89281368, 3.17682981]),\n",
       " 'score_time': array([0.05947948, 0.0580008 , 0.06306171, 0.06700325, 0.05951118]),\n",
       " 'test_precision': array([0.19836489, 0.19730034, 0.20203772, 0.20300916, 0.20242098]),\n",
       " 'test_recall': array([0.63762102, 0.60650069, 0.64453665, 0.64429066, 0.62448133]),\n",
       " 'test_f1': array([0.30259271, 0.29774232, 0.30764153, 0.30873819, 0.30573895])}"
      ]
     },
     "execution_count": 23,
     "metadata": {},
     "output_type": "execute_result"
    }
   ],
   "source": [
    "# dimensionality reduction\n",
    "pca_col_transformer = ColumnTransformer(transformers=[(\"OHE\", \n",
    "                                                       OneHotEncoder(handle_unknown=\"ignore\", \n",
    "                                                                     drop='first'), \n",
    "                                                       ohe_cols),                                                      \n",
    "                                                      (\"PCA_MMR\", \n",
    "                                                       PCA(n_components=1, \n",
    "                                                           random_state=42), \n",
    "                                                       MMR_cols)],\n",
    "                                        remainder=\"passthrough\",\n",
    "                                        sparse_threshold=0)\n",
    "                                         \n",
    "base_pca_pipe = Pipeline([(\"col_encoder\", pca_col_transformer),\n",
    "                          (\"scaler\", scaler),\n",
    "                          (\"model\", baseline_lr)])\n",
    "                          \n",
    "base_pca_pipe.fit(features_train, target_train)\n",
    "\n",
    "cross_validate(estimator=pipe_base, X=features_train, y=target_train, cv=5, scoring=['precision', 'recall', 'f1'])"
   ]
  },
  {
   "cell_type": "code",
   "execution_count": 24,
   "id": "594852c5",
   "metadata": {},
   "outputs": [
    {
     "name": "stdout",
     "output_type": "stream",
     "text": [
      "precision:  0.20065234832827042\n",
      "recall:  0.6316243832167966\n",
      "f1:  0.3045373046211116\n"
     ]
    }
   ],
   "source": [
    "print('precision: ', list(cv_results.values())[2].mean())\n",
    "print('recall: ', list(cv_results.values())[3].mean())\n",
    "print('f1: ', list(cv_results.values())[4].mean())"
   ]
  },
  {
   "cell_type": "code",
   "execution_count": 25,
   "id": "486b1d5f",
   "metadata": {},
   "outputs": [],
   "source": [
    "# feature importance\n",
    "result = permutation_importance(base_pca_pipe, features_train, target_train, random_state=42)\n",
    "sorted_idx = result.importances_mean.argsort()"
   ]
  },
  {
   "cell_type": "code",
   "execution_count": 26,
   "id": "65370ef5",
   "metadata": {},
   "outputs": [
    {
     "data": {
      "image/png": "[encoded data removed]",
      "text/plain": [
       "<Figure size 640x480 with 1 Axes>"
      ]
     },
     "metadata": {},
     "output_type": "display_data"
    }
   ],
   "source": [
    "import matplotlib.pyplot as plt\n",
    "\n",
    "fig, ax = plt.subplots()\n",
    "pd.Series(data=result.importances_mean[sorted_idx].T,\n",
    "          index=features_train.columns[sorted_idx]).plot.bar(ax=ax);"
   ]
  },
  {
   "cell_type": "code",
   "execution_count": 27,
   "id": "b286f42c",
   "metadata": {},
   "outputs": [
    {
     "name": "stdout",
     "output_type": "stream",
     "text": [
      "['Auction', 'VNST', 'Trim', 'WheelType', 'PurchYear', 'Nationality', 'VehBCost', 'AvgPrice_Auction', 'AvgPrice_Retail', 'TopThreeAmericanName', 'Make', 'AvgPrice']\n"
     ]
    }
   ],
   "source": [
    "keep_cols = list(features_train.columns[sorted_idx][-12:])\n",
    "print(keep_cols)"
   ]
  },
  {
   "cell_type": "code",
   "execution_count": 28,
   "id": "02c645ec",
   "metadata": {},
   "outputs": [
    {
     "name": "stdout",
     "output_type": "stream",
     "text": [
      "['BYRNO', 'VehOdo', 'VehicleAge', 'IsOnlineSale', 'MMRCurrentRetailAveragePrice', 'MMRAcquisitionRetailAveragePrice', 'MMRCurrentAuctionAveragePrice', 'MMRAcquisitionAuctionAveragePrice', 'MMRCurrentAuctionCleanPrice', 'MMRAcquisitionAuctionCleanPrice', 'MMRAcquisitonRetailCleanPrice', 'MMRCurrentRetailCleanPrice', 'Size', 'Color', 'Transmission', 'WarrantyCost']\n"
     ]
    }
   ],
   "source": [
    "remove_cols = [col for col in features_train.columns[sorted_idx] if col not in keep_cols]\n",
    "print(remove_cols)"
   ]
  },
  {
   "cell_type": "code",
   "execution_count": 29,
   "id": "420590bb",
   "metadata": {},
   "outputs": [],
   "source": [
    "features_train = features_train.drop(remove_cols, axis=1)"
   ]
  },
  {
   "cell_type": "code",
   "execution_count": 30,
   "id": "0d2b67e4",
   "metadata": {},
   "outputs": [
    {
     "data": {
      "text/html": [
       "<div>\n",
       "<style scoped>\n",
       "    .dataframe tbody tr th:only-of-type {\n",
       "        vertical-align: middle;\n",
       "    }\n",
       "\n",
       "    .dataframe tbody tr th {\n",
       "        vertical-align: top;\n",
       "    }\n",
       "\n",
       "    .dataframe thead th {\n",
       "        text-align: right;\n",
       "    }\n",
       "</style>\n",
       "<table border=\"1\" class=\"dataframe\">\n",
       "  <thead>\n",
       "    <tr style=\"text-align: right;\">\n",
       "      <th></th>\n",
       "      <th>Auction</th>\n",
       "      <th>Make</th>\n",
       "      <th>Trim</th>\n",
       "      <th>WheelType</th>\n",
       "      <th>Nationality</th>\n",
       "      <th>TopThreeAmericanName</th>\n",
       "      <th>VNST</th>\n",
       "      <th>VehBCost</th>\n",
       "      <th>PurchYear</th>\n",
       "      <th>AvgPrice</th>\n",
       "      <th>AvgPrice_Auction</th>\n",
       "      <th>AvgPrice_Retail</th>\n",
       "    </tr>\n",
       "  </thead>\n",
       "  <tbody>\n",
       "    <tr>\n",
       "      <th>0</th>\n",
       "      <td>MANHEIM</td>\n",
       "      <td>FORD</td>\n",
       "      <td>SEL</td>\n",
       "      <td>Alloy</td>\n",
       "      <td>AMERICAN</td>\n",
       "      <td>FORD</td>\n",
       "      <td>NC</td>\n",
       "      <td>8000.0</td>\n",
       "      <td>2009</td>\n",
       "      <td>13361.000</td>\n",
       "      <td>12606.75</td>\n",
       "      <td>12606.75</td>\n",
       "    </tr>\n",
       "    <tr>\n",
       "      <th>1</th>\n",
       "      <td>MANHEIM</td>\n",
       "      <td>GMC</td>\n",
       "      <td>SLE</td>\n",
       "      <td>Alloy</td>\n",
       "      <td>AMERICAN</td>\n",
       "      <td>GM</td>\n",
       "      <td>MD</td>\n",
       "      <td>7195.0</td>\n",
       "      <td>2009</td>\n",
       "      <td>8893.250</td>\n",
       "      <td>8310.75</td>\n",
       "      <td>8310.75</td>\n",
       "    </tr>\n",
       "    <tr>\n",
       "      <th>2</th>\n",
       "      <td>OTHER</td>\n",
       "      <td>DODGE</td>\n",
       "      <td>SE</td>\n",
       "      <td>Alloy</td>\n",
       "      <td>AMERICAN</td>\n",
       "      <td>CHRYSLER</td>\n",
       "      <td>OK</td>\n",
       "      <td>7300.0</td>\n",
       "      <td>2010</td>\n",
       "      <td>9785.625</td>\n",
       "      <td>8155.50</td>\n",
       "      <td>8155.50</td>\n",
       "    </tr>\n",
       "    <tr>\n",
       "      <th>3</th>\n",
       "      <td>OTHER</td>\n",
       "      <td>CHEVROLET</td>\n",
       "      <td>Bas</td>\n",
       "      <td>Covers</td>\n",
       "      <td>AMERICAN</td>\n",
       "      <td>GM</td>\n",
       "      <td>CO</td>\n",
       "      <td>5655.0</td>\n",
       "      <td>2009</td>\n",
       "      <td>4697.500</td>\n",
       "      <td>4276.50</td>\n",
       "      <td>4276.50</td>\n",
       "    </tr>\n",
       "    <tr>\n",
       "      <th>4</th>\n",
       "      <td>OTHER</td>\n",
       "      <td>HYUNDAI</td>\n",
       "      <td>GLS</td>\n",
       "      <td>Alloy</td>\n",
       "      <td>OTHER ASIAN</td>\n",
       "      <td>OTHER</td>\n",
       "      <td>AL</td>\n",
       "      <td>7900.0</td>\n",
       "      <td>2010</td>\n",
       "      <td>8595.500</td>\n",
       "      <td>6784.25</td>\n",
       "      <td>6784.25</td>\n",
       "    </tr>\n",
       "  </tbody>\n",
       "</table>\n",
       "</div>"
      ],
      "text/plain": [
       "   Auction       Make Trim WheelType  Nationality TopThreeAmericanName VNST  \\\n",
       "0  MANHEIM       FORD  SEL     Alloy     AMERICAN                 FORD   NC   \n",
       "1  MANHEIM        GMC  SLE     Alloy     AMERICAN                   GM   MD   \n",
       "2    OTHER      DODGE   SE     Alloy     AMERICAN             CHRYSLER   OK   \n",
       "3    OTHER  CHEVROLET  Bas    Covers     AMERICAN                   GM   CO   \n",
       "4    OTHER    HYUNDAI  GLS     Alloy  OTHER ASIAN                OTHER   AL   \n",
       "\n",
       "   VehBCost  PurchYear   AvgPrice  AvgPrice_Auction  AvgPrice_Retail  \n",
       "0    8000.0       2009  13361.000          12606.75         12606.75  \n",
       "1    7195.0       2009   8893.250           8310.75          8310.75  \n",
       "2    7300.0       2010   9785.625           8155.50          8155.50  \n",
       "3    5655.0       2009   4697.500           4276.50          4276.50  \n",
       "4    7900.0       2010   8595.500           6784.25          6784.25  "
      ]
     },
     "execution_count": 30,
     "metadata": {},
     "output_type": "execute_result"
    }
   ],
   "source": [
    "features_train.head()"
   ]
  },
  {
   "cell_type": "markdown",
   "id": "0c4e15ad",
   "metadata": {},
   "source": [
    "# Algorithm level"
   ]
  },
  {
   "cell_type": "code",
   "execution_count": 31,
   "id": "d2c8345d",
   "metadata": {},
   "outputs": [
    {
     "name": "stderr",
     "output_type": "stream",
     "text": [
      "C:\\Users\\dk\\AppData\\Local\\Temp\\ipykernel_10880\\2203189024.py:14: DeprecationWarning: In a future version, `df.iloc[:, i] = newvals` will attempt to set the values inplace instead of always setting a new array. To retain the old behavior, use either `df[df.columns[i]] = newvals` or, if columns are non-unique, `df.isetitem(i, newvals)`\n",
      "  features.loc[:, 'Transmission'] = features.loc[:, 'Transmission'].replace({'AUTO':0, 'MANUAL':1})\n",
      "C:\\Users\\dk\\AppData\\Local\\Temp\\ipykernel_10880\\2203189024.py:15: DeprecationWarning: In a future version, `df.iloc[:, i] = newvals` will attempt to set the values inplace instead of always setting a new array. To retain the old behavior, use either `df[df.columns[i]] = newvals` or, if columns are non-unique, `df.isetitem(i, newvals)`\n",
      "  features.loc[:, 'Transmission'] = features.loc[:, 'Transmission'].astype('category')\n"
     ]
    }
   ],
   "source": [
    "# apply feature engineering function on test set\n",
    "features_test = feature_engineering(features_test)\n",
    "features_test = features_test.drop(remove_cols, axis=1)"
   ]
  },
  {
   "cell_type": "code",
   "execution_count": 32,
   "id": "e33d208b",
   "metadata": {},
   "outputs": [],
   "source": [
    "ohe_cols = [col for col in ohe_cols if col not in remove_cols]\n",
    "\n",
    "col_transformer = ColumnTransformer(transformers=[(\"OHE\", OneHotEncoder(handle_unknown=\"ignore\"), ohe_cols)],\n",
    "                                    remainder=\"passthrough\",\n",
    "                                    sparse_threshold=0)"
   ]
  },
  {
   "cell_type": "code",
   "execution_count": 33,
   "id": "638729f6",
   "metadata": {},
   "outputs": [
    {
     "name": "stdout",
     "output_type": "stream",
     "text": [
      "Pipeline(steps=[('col_encoder',\n",
      "                 ColumnTransformer(remainder='passthrough', sparse_threshold=0,\n",
      "                                   transformers=[('OHE',\n",
      "                                                  OneHotEncoder(handle_unknown='ignore'),\n",
      "                                                  ['Auction', 'Make', 'Trim',\n",
      "                                                   'WheelType', 'Nationality',\n",
      "                                                   'TopThreeAmericanName',\n",
      "                                                   'VNST'])])),\n",
      "                ('scaler', StandardScaler()),\n",
      "                ('model',\n",
      "                 LogisticRegression(C=0.005, class_weight='balanced',\n",
      "                                    max_iter=1000, random_state=42))])\n",
      "0.29904796842292136\n"
     ]
    }
   ],
   "source": [
    "# logistic regression\n",
    "model_lr = LogisticRegression(class_weight=\"balanced\",\n",
    "                              random_state=42,\n",
    "                              max_iter=1000)\n",
    "\n",
    "model_pipe_lr = Pipeline([(\"col_encoder\", col_transformer),\n",
    "                          (\"scaler\", scaler),\n",
    "                          (\"model\", model_lr)])\n",
    "\n",
    "search_grid_lr = {\"model__C\": [0.005, 0.01, 0.05, 1]}\n",
    "\n",
    "grid_model_lr = GridSearchCV(estimator=model_pipe_lr,\n",
    "                             param_grid=search_grid_lr,\n",
    "                             cv=5,\n",
    "                             scoring=\"f1\")\n",
    "\n",
    "grid_model_lr.fit(features_train, target_train)\n",
    "\n",
    "print(grid_model_lr.best_estimator_)\n",
    "print(grid_model_lr.best_score_)"
   ]
  },
  {
   "cell_type": "code",
   "execution_count": 34,
   "id": "8d892855",
   "metadata": {},
   "outputs": [
    {
     "name": "stdout",
     "output_type": "stream",
     "text": [
      "              precision    recall  f1-score   support\n",
      "\n",
      "           0       0.92      0.64      0.76     12846\n",
      "           1       0.19      0.61      0.29      1746\n",
      "\n",
      "    accuracy                           0.64     14592\n",
      "   macro avg       0.55      0.62      0.52     14592\n",
      "weighted avg       0.83      0.64      0.70     14592\n",
      "\n"
     ]
    }
   ],
   "source": [
    "target_test_pred = grid_model_lr.predict(features_test)\n",
    "print(classification_report(target_test, target_test_pred))"
   ]
  },
  {
   "cell_type": "code",
   "execution_count": 35,
   "id": "e1d5dead",
   "metadata": {},
   "outputs": [
    {
     "name": "stdout",
     "output_type": "stream",
     "text": [
      "Pipeline(steps=[('col_encoder',\n",
      "                 ColumnTransformer(remainder='passthrough', sparse_threshold=0,\n",
      "                                   transformers=[('OHE',\n",
      "                                                  OneHotEncoder(handle_unknown='ignore'),\n",
      "                                                  ['Auction', 'Make', 'Trim',\n",
      "                                                   'WheelType', 'Nationality',\n",
      "                                                   'TopThreeAmericanName',\n",
      "                                                   'VNST'])])),\n",
      "                ('scaler', StandardScaler()),\n",
      "                ('model', KNeighborsClassifier(n_neighbors=1))])\n",
      "0.20555210888182857\n"
     ]
    }
   ],
   "source": [
    "# knn\n",
    "from sklearn.neighbors import KNeighborsClassifier\n",
    "\n",
    "model_knn = KNeighborsClassifier()\n",
    "\n",
    "# tune hyperparameters\n",
    "model_pipe_knn = Pipeline([(\"col_encoder\", col_transformer),\n",
    "                           (\"scaler\", scaler),\n",
    "                           (\"model\", model_knn)])\n",
    "\n",
    "search_grid_knn = {\"model__n_neighbors\": range(1, 6),\n",
    "                   \"model__weights\": ['uniform', 'distance']}\n",
    "\n",
    "grid_model_knn = GridSearchCV(estimator=model_pipe_knn,\n",
    "                              param_grid=search_grid_knn,\n",
    "                              cv=5,\n",
    "                              scoring=\"f1\")\n",
    "\n",
    "grid_model_knn.fit(features_train, target_train)\n",
    "\n",
    "print(grid_model_knn.best_estimator_)\n",
    "print(grid_model_knn.best_score_)"
   ]
  },
  {
   "cell_type": "code",
   "execution_count": 36,
   "id": "a6b89031",
   "metadata": {},
   "outputs": [
    {
     "name": "stdout",
     "output_type": "stream",
     "text": [
      "              precision    recall  f1-score   support\n",
      "\n",
      "           0       0.89      0.89      0.89     12846\n",
      "           1       0.19      0.19      0.19      1746\n",
      "\n",
      "    accuracy                           0.81     14592\n",
      "   macro avg       0.54      0.54      0.54     14592\n",
      "weighted avg       0.81      0.81      0.81     14592\n",
      "\n"
     ]
    }
   ],
   "source": [
    "target_test_pred = grid_model_knn.predict(features_test)\n",
    "print(classification_report(target_test, target_test_pred))"
   ]
  },
  {
   "cell_type": "code",
   "execution_count": 37,
   "id": "046006e5",
   "metadata": {},
   "outputs": [
    {
     "name": "stdout",
     "output_type": "stream",
     "text": [
      "Pipeline(steps=[('col_encoder',\n",
      "                 ColumnTransformer(remainder='passthrough', sparse_threshold=0,\n",
      "                                   transformers=[('OHE',\n",
      "                                                  OneHotEncoder(handle_unknown='ignore'),\n",
      "                                                  ['Auction', 'Make', 'Trim',\n",
      "                                                   'WheelType', 'Nationality',\n",
      "                                                   'TopThreeAmericanName',\n",
      "                                                   'VNST'])])),\n",
      "                ('model',\n",
      "                 DecisionTreeClassifier(class_weight='balanced', max_depth=5,\n",
      "                                        random_state=42))])\n",
      "0.2835253358504266\n"
     ]
    }
   ],
   "source": [
    "# decision tree\n",
    "from sklearn.tree import DecisionTreeClassifier\n",
    "\n",
    "model_dt = DecisionTreeClassifier(class_weight=\"balanced\", random_state=42)\n",
    "\n",
    "model_pipe_dt = Pipeline([(\"col_encoder\", col_transformer),\n",
    "                          (\"model\", model_dt)])\n",
    "\n",
    "search_grid_dt = {\"model__max_depth\": range(1, 10)}\n",
    "\n",
    "grid_model_dt = GridSearchCV(estimator=model_pipe_dt,\n",
    "                             param_grid=search_grid_dt,\n",
    "                             cv=5,\n",
    "                             scoring=\"f1\")\n",
    "\n",
    "grid_model_dt.fit(features_train, target_train)\n",
    "\n",
    "print(grid_model_dt.best_estimator_)\n",
    "print(grid_model_dt.best_score_)"
   ]
  },
  {
   "cell_type": "code",
   "execution_count": 38,
   "id": "cfe28d66",
   "metadata": {},
   "outputs": [
    {
     "name": "stdout",
     "output_type": "stream",
     "text": [
      "              precision    recall  f1-score   support\n",
      "\n",
      "           0       0.93      0.58      0.71     12846\n",
      "           1       0.18      0.66      0.28      1746\n",
      "\n",
      "    accuracy                           0.59     14592\n",
      "   macro avg       0.55      0.62      0.50     14592\n",
      "weighted avg       0.84      0.59      0.66     14592\n",
      "\n"
     ]
    }
   ],
   "source": [
    "target_test_pred = grid_model_dt.predict(features_test)\n",
    "print(classification_report(target_test, target_test_pred))"
   ]
  },
  {
   "cell_type": "code",
   "execution_count": 39,
   "id": "5afa2137",
   "metadata": {},
   "outputs": [
    {
     "data": {
      "text/plain": [
       "0.07834145179703708"
      ]
     },
     "execution_count": 39,
     "metadata": {},
     "output_type": "execute_result"
    }
   ],
   "source": [
    "# random forest\n",
    "from sklearn.ensemble import RandomForestClassifier\n",
    "\n",
    "model_rf = RandomForestClassifier(class_weight=\"balanced\", \n",
    "                                  random_state=42,\n",
    "                                  n_jobs=-1)\n",
    "\n",
    "model_pipe_rf = Pipeline([(\"ohe\", col_transformer),\n",
    "                          (\"model\", model_rf)])\n",
    "\n",
    "model_pipe_rf.fit(features_train, target_train)\n",
    "\n",
    "cross_val_score(estimator=model_pipe_rf,\n",
    "                X=features_train, \n",
    "                y=target_train, \n",
    "                cv=5, \n",
    "                scoring='f1').mean()"
   ]
  },
  {
   "cell_type": "code",
   "execution_count": 40,
   "id": "d6547d3a",
   "metadata": {},
   "outputs": [
    {
     "name": "stdout",
     "output_type": "stream",
     "text": [
      "              precision    recall  f1-score   support\n",
      "\n",
      "           0       0.88      0.99      0.93     12846\n",
      "           1       0.35      0.05      0.09      1746\n",
      "\n",
      "    accuracy                           0.88     14592\n",
      "   macro avg       0.62      0.52      0.51     14592\n",
      "weighted avg       0.82      0.88      0.83     14592\n",
      "\n"
     ]
    }
   ],
   "source": [
    "target_test_pred = model_pipe_rf.predict(features_test)\n",
    "print(classification_report(target_test, target_test_pred))"
   ]
  },
  {
   "cell_type": "markdown",
   "id": "88f1a839",
   "metadata": {},
   "source": [
    "# Model selection and predictions"
   ]
  },
  {
   "cell_type": "markdown",
   "id": "9d1206d1",
   "metadata": {},
   "source": [
    "selecting model with best f1 score on test set (mostly bad f1 scores due to low precision)"
   ]
  },
  {
   "cell_type": "code",
   "execution_count": 41,
   "id": "2dc7ac30",
   "metadata": {},
   "outputs": [],
   "source": [
    "# predictions on aim data\n",
    "df_aim = pd.read_csv(\"test.csv\")\n",
    "target_aim_pred = grid_model_lr.predict(features_test)"
   ]
  },
  {
   "cell_type": "code",
   "execution_count": 42,
   "id": "6563e541",
   "metadata": {},
   "outputs": [
    {
     "data": {
      "text/plain": [
       "0    8922\n",
       "1    5670\n",
       "dtype: int64"
      ]
     },
     "execution_count": 42,
     "metadata": {},
     "output_type": "execute_result"
    }
   ],
   "source": [
    "# amount of cars that are good buys (0) or \"lemons\" (1) \n",
    "pd.Series(target_aim_pred).value_counts()"
   ]
  }
 ],
 "metadata": {
  "kernelspec": {
   "display_name": "Python 3 (ipykernel)",
   "language": "python",
   "name": "python3"
  },
  "language_info": {
   "codemirror_mode": {
    "name": "ipython",
    "version": 3
   },
   "file_extension": ".py",
   "mimetype": "text/x-python",
   "name": "python",
   "nbconvert_exporter": "python",
   "pygments_lexer": "ipython3",
   "version": "3.10.9"
  }
 },
 "nbformat": 4,
 "nbformat_minor": 5
}
